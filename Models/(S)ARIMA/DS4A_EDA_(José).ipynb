{
  "nbformat": 4,
  "nbformat_minor": 0,
  "metadata": {
    "colab": {
      "name": "DS4A EDA (José).ipynb",
      "provenance": [],
      "collapsed_sections": []
    },
    "kernelspec": {
      "display_name": "Python 3",
      "name": "python3"
    },
    "language_info": {
      "name": "python"
    }
  },
  "cells": [
    {
      "cell_type": "code",
      "metadata": {
        "id": "gyvDgxmjQ3yG"
      },
      "source": [
        "import pandas as pd\n",
        "import numpy as np\n",
        "import datetime\n",
        "import seaborn as sns\n",
        "import matplotlib.pylab as plt\n",
        "import matplotlib.dates as mdates\n",
        "from scipy import stats\n",
        "from google.colab import files"
      ],
      "execution_count": null,
      "outputs": []
    },
    {
      "cell_type": "markdown",
      "metadata": {
        "id": "LYZAb-keb7eM"
      },
      "source": [
        "# ICA"
      ]
    },
    {
      "cell_type": "markdown",
      "metadata": {
        "id": "TftTr8YucFpH"
      },
      "source": [
        "## PAGOS\n"
      ]
    },
    {
      "cell_type": "code",
      "metadata": {
        "id": "h_iYA6c1ig_a"
      },
      "source": [
        "r"
      ],
      "execution_count": null,
      "outputs": []
    },
    {
      "cell_type": "code",
      "metadata": {
        "colab": {
          "base_uri": "https://localhost:8080/",
          "height": 200
        },
        "id": "IHy6_md_3tyh",
        "outputId": "ae63eea1-679e-4c8c-afcd-0f6f26e261b6"
      },
      "source": [
        "ica_payment.head()"
      ],
      "execution_count": null,
      "outputs": [
        {
          "output_type": "execute_result",
          "data": {
            "text/html": [
              "<div>\n",
              "<style scoped>\n",
              "    .dataframe tbody tr th:only-of-type {\n",
              "        vertical-align: middle;\n",
              "    }\n",
              "\n",
              "    .dataframe tbody tr th {\n",
              "        vertical-align: top;\n",
              "    }\n",
              "\n",
              "    .dataframe thead th {\n",
              "        text-align: right;\n",
              "    }\n",
              "</style>\n",
              "<table border=\"1\" class=\"dataframe\">\n",
              "  <thead>\n",
              "    <tr style=\"text-align: right;\">\n",
              "      <th></th>\n",
              "      <th>nit_cedula</th>\n",
              "      <th>factura</th>\n",
              "      <th>valor_factura</th>\n",
              "      <th>nombre_pago</th>\n",
              "      <th>ultimo_pago</th>\n",
              "      <th>year</th>\n",
              "      <th>unnamed_column</th>\n",
              "    </tr>\n",
              "  </thead>\n",
              "  <tbody>\n",
              "    <tr>\n",
              "      <th>0</th>\n",
              "      <td>900876121.0</td>\n",
              "      <td>2.016001e+10</td>\n",
              "      <td>1533.0</td>\n",
              "      <td>PRADERAS Y JARDINES</td>\n",
              "      <td>1/12/2015</td>\n",
              "      <td>2016</td>\n",
              "      <td>NaN</td>\n",
              "    </tr>\n",
              "    <tr>\n",
              "      <th>1</th>\n",
              "      <td>900756729.0</td>\n",
              "      <td>2.016010e+09</td>\n",
              "      <td>661.0</td>\n",
              "      <td>SERVITRAMITES DE ORIENTE S.A.S</td>\n",
              "      <td>1/12/2015</td>\n",
              "      <td>2016</td>\n",
              "      <td>NaN</td>\n",
              "    </tr>\n",
              "    <tr>\n",
              "      <th>2</th>\n",
              "      <td>15423584.0</td>\n",
              "      <td>2.016003e+09</td>\n",
              "      <td>3450.0</td>\n",
              "      <td>EST. DE DULCES</td>\n",
              "      <td>1/12/2015</td>\n",
              "      <td>2016</td>\n",
              "      <td>NaN</td>\n",
              "    </tr>\n",
              "    <tr>\n",
              "      <th>3</th>\n",
              "      <td>805004034.0</td>\n",
              "      <td>2.016010e+09</td>\n",
              "      <td>139674.0</td>\n",
              "      <td>COOPSERP</td>\n",
              "      <td>1/11/2015</td>\n",
              "      <td>2016</td>\n",
              "      <td>NaN</td>\n",
              "    </tr>\n",
              "    <tr>\n",
              "      <th>4</th>\n",
              "      <td>860002964.0</td>\n",
              "      <td>2.016009e+09</td>\n",
              "      <td>3231155.0</td>\n",
              "      <td>BANCO DE BOGOTA</td>\n",
              "      <td>1/12/2015</td>\n",
              "      <td>2016</td>\n",
              "      <td>NaN</td>\n",
              "    </tr>\n",
              "  </tbody>\n",
              "</table>\n",
              "</div>"
            ],
            "text/plain": [
              "    nit_cedula       factura  valor_factura  ... ultimo_pago  year  unnamed_column\n",
              "0  900876121.0  2.016001e+10         1533.0  ...   1/12/2015  2016             NaN\n",
              "1  900756729.0  2.016010e+09          661.0  ...   1/12/2015  2016             NaN\n",
              "2   15423584.0  2.016003e+09         3450.0  ...   1/12/2015  2016             NaN\n",
              "3  805004034.0  2.016010e+09       139674.0  ...   1/11/2015  2016             NaN\n",
              "4  860002964.0  2.016009e+09      3231155.0  ...   1/12/2015  2016             NaN\n",
              "\n",
              "[5 rows x 7 columns]"
            ]
          },
          "metadata": {
            "tags": []
          },
          "execution_count": 32
        }
      ]
    },
    {
      "cell_type": "code",
      "metadata": {
        "id": "7mOoPlX9kDLB"
      },
      "source": [
        "#Giving format of date and extracting month and year for crosstab\n",
        "ica_payment[\"ultimo_pago\"]=pd.to_datetime(ica_payment[\"ultimo_pago\"],format='%d/%m/%Y')\n",
        "ica_payment[\"mes_ultimo_pago\"]=ica_payment[\"ultimo_pago\"].dt.month\n",
        "ica_payment[\"ano_ultimo_pago\"]=ica_payment[\"ultimo_pago\"].dt.year"
      ],
      "execution_count": null,
      "outputs": []
    },
    {
      "cell_type": "code",
      "metadata": {
        "id": "2SCetU9JuVaw"
      },
      "source": [
        "#Returning to initial format\n",
        "ica_payment[\"ultimo_pago\"]=ica_payment[\"ultimo_pago\"].apply(lambda x: x.strftime('%Y-%m'))"
      ],
      "execution_count": null,
      "outputs": []
    },
    {
      "cell_type": "code",
      "metadata": {
        "id": "Y7HPgFg08eeJ"
      },
      "source": [
        "%matplotlib inline"
      ],
      "execution_count": null,
      "outputs": []
    },
    {
      "cell_type": "code",
      "metadata": {
        "colab": {
          "base_uri": "https://localhost:8080/"
        },
        "id": "p3Fj2j1G86Ki",
        "outputId": "25ecc129-0aa2-48ee-9767-2f91c0c2dc67"
      },
      "source": [
        "ica_payment[\"log_valor_factura\"]=np.log(ica_payment[\"valor_factura\"])\n",
        "ica_payment_hist=ica_payment[np.isfinite(ica_payment[\"log_valor_factura\"])]\n"
      ],
      "execution_count": null,
      "outputs": [
        {
          "output_type": "stream",
          "text": [
            "/usr/local/lib/python3.7/dist-packages/pandas/core/series.py:726: RuntimeWarning: divide by zero encountered in log\n",
            "  result = getattr(ufunc, method)(*inputs, **kwargs)\n"
          ],
          "name": "stderr"
        }
      ]
    },
    {
      "cell_type": "code",
      "metadata": {
        "colab": {
          "base_uri": "https://localhost:8080/",
          "height": 672
        },
        "id": "DqHROdpi4A37",
        "outputId": "9655aaac-a8da-4e9d-880f-f31d3664fb83"
      },
      "source": [
        "\n",
        "g = sns.FacetGrid(ica_payment_hist, col=\"year\",col_wrap=2)\n",
        "g.map(sns.histplot, \"log_valor_factura\")\n",
        "g.set_axis_labels(x_var=\"Valor Factura\")"
      ],
      "execution_count": null,
      "outputs": [
        {
          "output_type": "execute_result",
          "data": {
            "text/plain": [
              "<seaborn.axisgrid.FacetGrid at 0x7f9fc478a450>"
            ]
          },
          "metadata": {
            "tags": []
          },
          "execution_count": 16
        },
        {
          "output_type": "display_data",
          "data": {
            "image/png": "[encoded data removed]",
            "text/plain": [
              "<Figure size 432x648 with 5 Axes>"
            ]
          },
          "metadata": {
            "tags": [],
            "needs_background": "light"
          }
        }
      ]
    },
    {
      "cell_type": "code",
      "metadata": {
        "id": "eKQnYzbV1_yH"
      },
      "source": [
        "#This is to extract an example using same cedula\n",
        "ica_payment[ica_payment[\"nit_cedula\"]==ica_payment[\"nit_cedula\"].unique()[0]].sort_values(\"ultimo_pago\")"
      ],
      "execution_count": null,
      "outputs": []
    },
    {
      "cell_type": "code",
      "metadata": {
        "colab": {
          "base_uri": "https://localhost:8080/",
          "height": 793
        },
        "id": "Bpshd6ZtmtTx",
        "outputId": "1035c8f9-4525-446f-f616-c92d0b36a91b"
      },
      "source": [
        "#All years have payments on all months\n",
        "pd.crosstab(ica_payment[\"ano_ultimo_pago\"],ica_payment[\"mes_ultimo_pago\"])"
      ],
      "execution_count": null,
      "outputs": [
        {
          "output_type": "execute_result",
          "data": {
            "text/html": [
              "<div>\n",
              "<style scoped>\n",
              "    .dataframe tbody tr th:only-of-type {\n",
              "        vertical-align: middle;\n",
              "    }\n",
              "\n",
              "    .dataframe tbody tr th {\n",
              "        vertical-align: top;\n",
              "    }\n",
              "\n",
              "    .dataframe thead th {\n",
              "        text-align: right;\n",
              "    }\n",
              "</style>\n",
              "<table border=\"1\" class=\"dataframe\">\n",
              "  <thead>\n",
              "    <tr style=\"text-align: right;\">\n",
              "      <th>mes_ultimo_pago</th>\n",
              "      <th>1</th>\n",
              "      <th>2</th>\n",
              "      <th>3</th>\n",
              "      <th>4</th>\n",
              "      <th>5</th>\n",
              "      <th>6</th>\n",
              "      <th>7</th>\n",
              "      <th>8</th>\n",
              "      <th>9</th>\n",
              "      <th>10</th>\n",
              "      <th>11</th>\n",
              "      <th>12</th>\n",
              "    </tr>\n",
              "    <tr>\n",
              "      <th>ano_ultimo_pago</th>\n",
              "      <th></th>\n",
              "      <th></th>\n",
              "      <th></th>\n",
              "      <th></th>\n",
              "      <th></th>\n",
              "      <th></th>\n",
              "      <th></th>\n",
              "      <th></th>\n",
              "      <th></th>\n",
              "      <th></th>\n",
              "      <th></th>\n",
              "      <th></th>\n",
              "    </tr>\n",
              "  </thead>\n",
              "  <tbody>\n",
              "    <tr>\n",
              "      <th>1998</th>\n",
              "      <td>0</td>\n",
              "      <td>0</td>\n",
              "      <td>0</td>\n",
              "      <td>1</td>\n",
              "      <td>0</td>\n",
              "      <td>0</td>\n",
              "      <td>0</td>\n",
              "      <td>0</td>\n",
              "      <td>0</td>\n",
              "      <td>0</td>\n",
              "      <td>0</td>\n",
              "      <td>0</td>\n",
              "    </tr>\n",
              "    <tr>\n",
              "      <th>2000</th>\n",
              "      <td>5</td>\n",
              "      <td>0</td>\n",
              "      <td>0</td>\n",
              "      <td>0</td>\n",
              "      <td>0</td>\n",
              "      <td>0</td>\n",
              "      <td>0</td>\n",
              "      <td>0</td>\n",
              "      <td>0</td>\n",
              "      <td>0</td>\n",
              "      <td>0</td>\n",
              "      <td>0</td>\n",
              "    </tr>\n",
              "    <tr>\n",
              "      <th>2001</th>\n",
              "      <td>0</td>\n",
              "      <td>1</td>\n",
              "      <td>0</td>\n",
              "      <td>0</td>\n",
              "      <td>0</td>\n",
              "      <td>0</td>\n",
              "      <td>0</td>\n",
              "      <td>0</td>\n",
              "      <td>0</td>\n",
              "      <td>0</td>\n",
              "      <td>0</td>\n",
              "      <td>0</td>\n",
              "    </tr>\n",
              "    <tr>\n",
              "      <th>2002</th>\n",
              "      <td>0</td>\n",
              "      <td>0</td>\n",
              "      <td>0</td>\n",
              "      <td>1</td>\n",
              "      <td>1</td>\n",
              "      <td>0</td>\n",
              "      <td>0</td>\n",
              "      <td>0</td>\n",
              "      <td>0</td>\n",
              "      <td>1</td>\n",
              "      <td>1</td>\n",
              "      <td>0</td>\n",
              "    </tr>\n",
              "    <tr>\n",
              "      <th>2003</th>\n",
              "      <td>0</td>\n",
              "      <td>0</td>\n",
              "      <td>0</td>\n",
              "      <td>0</td>\n",
              "      <td>0</td>\n",
              "      <td>1</td>\n",
              "      <td>0</td>\n",
              "      <td>0</td>\n",
              "      <td>1</td>\n",
              "      <td>0</td>\n",
              "      <td>0</td>\n",
              "      <td>0</td>\n",
              "    </tr>\n",
              "    <tr>\n",
              "      <th>2004</th>\n",
              "      <td>0</td>\n",
              "      <td>0</td>\n",
              "      <td>0</td>\n",
              "      <td>0</td>\n",
              "      <td>0</td>\n",
              "      <td>0</td>\n",
              "      <td>0</td>\n",
              "      <td>0</td>\n",
              "      <td>0</td>\n",
              "      <td>0</td>\n",
              "      <td>0</td>\n",
              "      <td>1</td>\n",
              "    </tr>\n",
              "    <tr>\n",
              "      <th>2005</th>\n",
              "      <td>0</td>\n",
              "      <td>0</td>\n",
              "      <td>0</td>\n",
              "      <td>1</td>\n",
              "      <td>0</td>\n",
              "      <td>0</td>\n",
              "      <td>1</td>\n",
              "      <td>0</td>\n",
              "      <td>0</td>\n",
              "      <td>0</td>\n",
              "      <td>0</td>\n",
              "      <td>0</td>\n",
              "    </tr>\n",
              "    <tr>\n",
              "      <th>2006</th>\n",
              "      <td>0</td>\n",
              "      <td>0</td>\n",
              "      <td>1</td>\n",
              "      <td>0</td>\n",
              "      <td>0</td>\n",
              "      <td>0</td>\n",
              "      <td>0</td>\n",
              "      <td>0</td>\n",
              "      <td>0</td>\n",
              "      <td>1</td>\n",
              "      <td>0</td>\n",
              "      <td>0</td>\n",
              "    </tr>\n",
              "    <tr>\n",
              "      <th>2007</th>\n",
              "      <td>2</td>\n",
              "      <td>0</td>\n",
              "      <td>0</td>\n",
              "      <td>1</td>\n",
              "      <td>1</td>\n",
              "      <td>2</td>\n",
              "      <td>1</td>\n",
              "      <td>1</td>\n",
              "      <td>1</td>\n",
              "      <td>0</td>\n",
              "      <td>3</td>\n",
              "      <td>8</td>\n",
              "    </tr>\n",
              "    <tr>\n",
              "      <th>2008</th>\n",
              "      <td>1</td>\n",
              "      <td>3</td>\n",
              "      <td>4</td>\n",
              "      <td>1</td>\n",
              "      <td>3</td>\n",
              "      <td>2</td>\n",
              "      <td>3</td>\n",
              "      <td>2</td>\n",
              "      <td>2</td>\n",
              "      <td>1</td>\n",
              "      <td>0</td>\n",
              "      <td>30</td>\n",
              "    </tr>\n",
              "    <tr>\n",
              "      <th>2009</th>\n",
              "      <td>4</td>\n",
              "      <td>2</td>\n",
              "      <td>4</td>\n",
              "      <td>0</td>\n",
              "      <td>2</td>\n",
              "      <td>3</td>\n",
              "      <td>1</td>\n",
              "      <td>4</td>\n",
              "      <td>5</td>\n",
              "      <td>1</td>\n",
              "      <td>2</td>\n",
              "      <td>18</td>\n",
              "    </tr>\n",
              "    <tr>\n",
              "      <th>2010</th>\n",
              "      <td>1</td>\n",
              "      <td>2</td>\n",
              "      <td>8</td>\n",
              "      <td>7</td>\n",
              "      <td>4</td>\n",
              "      <td>3</td>\n",
              "      <td>7</td>\n",
              "      <td>1</td>\n",
              "      <td>2</td>\n",
              "      <td>6</td>\n",
              "      <td>0</td>\n",
              "      <td>13</td>\n",
              "    </tr>\n",
              "    <tr>\n",
              "      <th>2011</th>\n",
              "      <td>4</td>\n",
              "      <td>3</td>\n",
              "      <td>5</td>\n",
              "      <td>4</td>\n",
              "      <td>2</td>\n",
              "      <td>4</td>\n",
              "      <td>4</td>\n",
              "      <td>7</td>\n",
              "      <td>6</td>\n",
              "      <td>8</td>\n",
              "      <td>6</td>\n",
              "      <td>26</td>\n",
              "    </tr>\n",
              "    <tr>\n",
              "      <th>2012</th>\n",
              "      <td>2</td>\n",
              "      <td>6</td>\n",
              "      <td>7</td>\n",
              "      <td>6</td>\n",
              "      <td>8</td>\n",
              "      <td>8</td>\n",
              "      <td>7</td>\n",
              "      <td>15</td>\n",
              "      <td>12</td>\n",
              "      <td>9</td>\n",
              "      <td>5</td>\n",
              "      <td>71</td>\n",
              "    </tr>\n",
              "    <tr>\n",
              "      <th>2013</th>\n",
              "      <td>9</td>\n",
              "      <td>10</td>\n",
              "      <td>11</td>\n",
              "      <td>14</td>\n",
              "      <td>12</td>\n",
              "      <td>7</td>\n",
              "      <td>11</td>\n",
              "      <td>12</td>\n",
              "      <td>13</td>\n",
              "      <td>12</td>\n",
              "      <td>7</td>\n",
              "      <td>96</td>\n",
              "    </tr>\n",
              "    <tr>\n",
              "      <th>2014</th>\n",
              "      <td>22</td>\n",
              "      <td>22</td>\n",
              "      <td>33</td>\n",
              "      <td>24</td>\n",
              "      <td>22</td>\n",
              "      <td>26</td>\n",
              "      <td>25</td>\n",
              "      <td>25</td>\n",
              "      <td>40</td>\n",
              "      <td>34</td>\n",
              "      <td>21</td>\n",
              "      <td>190</td>\n",
              "    </tr>\n",
              "    <tr>\n",
              "      <th>2015</th>\n",
              "      <td>55</td>\n",
              "      <td>50</td>\n",
              "      <td>119</td>\n",
              "      <td>87</td>\n",
              "      <td>67</td>\n",
              "      <td>94</td>\n",
              "      <td>115</td>\n",
              "      <td>142</td>\n",
              "      <td>164</td>\n",
              "      <td>279</td>\n",
              "      <td>596</td>\n",
              "      <td>2970</td>\n",
              "    </tr>\n",
              "    <tr>\n",
              "      <th>2016</th>\n",
              "      <td>1076</td>\n",
              "      <td>1406</td>\n",
              "      <td>1797</td>\n",
              "      <td>1476</td>\n",
              "      <td>2552</td>\n",
              "      <td>1391</td>\n",
              "      <td>2552</td>\n",
              "      <td>2495</td>\n",
              "      <td>2461</td>\n",
              "      <td>2352</td>\n",
              "      <td>2313</td>\n",
              "      <td>2997</td>\n",
              "    </tr>\n",
              "    <tr>\n",
              "      <th>2017</th>\n",
              "      <td>1225</td>\n",
              "      <td>2859</td>\n",
              "      <td>3000</td>\n",
              "      <td>2598</td>\n",
              "      <td>2951</td>\n",
              "      <td>2718</td>\n",
              "      <td>2395</td>\n",
              "      <td>2837</td>\n",
              "      <td>2525</td>\n",
              "      <td>2666</td>\n",
              "      <td>2376</td>\n",
              "      <td>3591</td>\n",
              "    </tr>\n",
              "    <tr>\n",
              "      <th>2018</th>\n",
              "      <td>3225</td>\n",
              "      <td>2770</td>\n",
              "      <td>1981</td>\n",
              "      <td>2122</td>\n",
              "      <td>3367</td>\n",
              "      <td>3207</td>\n",
              "      <td>2529</td>\n",
              "      <td>2990</td>\n",
              "      <td>2436</td>\n",
              "      <td>3047</td>\n",
              "      <td>2102</td>\n",
              "      <td>3531</td>\n",
              "    </tr>\n",
              "    <tr>\n",
              "      <th>2019</th>\n",
              "      <td>3392</td>\n",
              "      <td>3139</td>\n",
              "      <td>3080</td>\n",
              "      <td>2413</td>\n",
              "      <td>3131</td>\n",
              "      <td>2484</td>\n",
              "      <td>3150</td>\n",
              "      <td>2889</td>\n",
              "      <td>2770</td>\n",
              "      <td>2855</td>\n",
              "      <td>2497</td>\n",
              "      <td>4612</td>\n",
              "    </tr>\n",
              "    <tr>\n",
              "      <th>2020</th>\n",
              "      <td>3222</td>\n",
              "      <td>3394</td>\n",
              "      <td>2104</td>\n",
              "      <td>1189</td>\n",
              "      <td>1696</td>\n",
              "      <td>2391</td>\n",
              "      <td>3292</td>\n",
              "      <td>3180</td>\n",
              "      <td>3288</td>\n",
              "      <td>3570</td>\n",
              "      <td>3136</td>\n",
              "      <td>13</td>\n",
              "    </tr>\n",
              "    <tr>\n",
              "      <th>2028</th>\n",
              "      <td>1</td>\n",
              "      <td>0</td>\n",
              "      <td>0</td>\n",
              "      <td>0</td>\n",
              "      <td>0</td>\n",
              "      <td>0</td>\n",
              "      <td>0</td>\n",
              "      <td>0</td>\n",
              "      <td>0</td>\n",
              "      <td>0</td>\n",
              "      <td>0</td>\n",
              "      <td>0</td>\n",
              "    </tr>\n",
              "  </tbody>\n",
              "</table>\n",
              "</div>"
            ],
            "text/plain": [
              "mes_ultimo_pago    1     2     3     4     5   ...    8     9     10    11    12\n",
              "ano_ultimo_pago                                ...                              \n",
              "1998                0     0     0     1     0  ...     0     0     0     0     0\n",
              "2000                5     0     0     0     0  ...     0     0     0     0     0\n",
              "2001                0     1     0     0     0  ...     0     0     0     0     0\n",
              "2002                0     0     0     1     1  ...     0     0     1     1     0\n",
              "2003                0     0     0     0     0  ...     0     1     0     0     0\n",
              "2004                0     0     0     0     0  ...     0     0     0     0     1\n",
              "2005                0     0     0     1     0  ...     0     0     0     0     0\n",
              "2006                0     0     1     0     0  ...     0     0     1     0     0\n",
              "2007                2     0     0     1     1  ...     1     1     0     3     8\n",
              "2008                1     3     4     1     3  ...     2     2     1     0    30\n",
              "2009                4     2     4     0     2  ...     4     5     1     2    18\n",
              "2010                1     2     8     7     4  ...     1     2     6     0    13\n",
              "2011                4     3     5     4     2  ...     7     6     8     6    26\n",
              "2012                2     6     7     6     8  ...    15    12     9     5    71\n",
              "2013                9    10    11    14    12  ...    12    13    12     7    96\n",
              "2014               22    22    33    24    22  ...    25    40    34    21   190\n",
              "2015               55    50   119    87    67  ...   142   164   279   596  2970\n",
              "2016             1076  1406  1797  1476  2552  ...  2495  2461  2352  2313  2997\n",
              "2017             1225  2859  3000  2598  2951  ...  2837  2525  2666  2376  3591\n",
              "2018             3225  2770  1981  2122  3367  ...  2990  2436  3047  2102  3531\n",
              "2019             3392  3139  3080  2413  3131  ...  2889  2770  2855  2497  4612\n",
              "2020             3222  3394  2104  1189  1696  ...  3180  3288  3570  3136    13\n",
              "2028                1     0     0     0     0  ...     0     0     0     0     0\n",
              "\n",
              "[23 rows x 12 columns]"
            ]
          },
          "metadata": {
            "tags": []
          },
          "execution_count": 6
        }
      ]
    },
    {
      "cell_type": "code",
      "metadata": {
        "id": "DP35jT3urIQw"
      },
      "source": [
        "#for cycle to shift the date. Takes long time to run.\n",
        "\n",
        "#shifted_ica_payment=pd.DataFrame()\n",
        "\n",
        "#for cedula in ica_payment[\"nit_cedula\"].unique():\n",
        "#  sub_df=ica_payment[ica_payment[\"nit_cedula\"]==cedula].sort_values(\"ultimo_pago\")\n",
        "#  sub_df[\"fecha_pago_actual\"]=sub_df[\"ultimo_pago\"].shift(-1)\n",
        "#  shifted_ica_payment=pd.concat([shifted_ica_payment,sub_df])\n",
        "\n"
      ],
      "execution_count": null,
      "outputs": []
    },
    {
      "cell_type": "code",
      "metadata": {
        "colab": {
          "base_uri": "https://localhost:8080/",
          "height": 17
        },
        "id": "BnjtExwYvPNF",
        "outputId": "a496e394-bec7-4804-e8a2-8b180cf48ca7"
      },
      "source": [
        "#Saving file\n",
        "shifted_ica_payment.to_csv(\"total_ica_payment_v2.csv\")\n",
        "files.download(\"total_ica_payment_v2.csv\")"
      ],
      "execution_count": null,
      "outputs": [
        {
          "output_type": "display_data",
          "data": {
            "application/javascript": [
              "\n",
              "    async function download(id, filename, size) {\n",
              "      if (!google.colab.kernel.accessAllowed) {\n",
              "        return;\n",
              "      }\n",
              "      const div = document.createElement('div');\n",
              "      const label = document.createElement('label');\n",
              "      label.textContent = `Downloading \"${filename}\": `;\n",
              "      div.appendChild(label);\n",
              "      const progress = document.createElement('progress');\n",
              "      progress.max = size;\n",
              "      div.appendChild(progress);\n",
              "      document.body.appendChild(div);\n",
              "\n",
              "      const buffers = [];\n",
              "      let downloaded = 0;\n",
              "\n",
              "      const channel = await google.colab.kernel.comms.open(id);\n",
              "      // Send a message to notify the kernel that we're ready.\n",
              "      channel.send({})\n",
              "\n",
              "      for await (const message of channel.messages) {\n",
              "        // Send a message to notify the kernel that we're ready.\n",
              "        channel.send({})\n",
              "        if (message.buffers) {\n",
              "          for (const buffer of message.buffers) {\n",
              "            buffers.push(buffer);\n",
              "            downloaded += buffer.byteLength;\n",
              "            progress.value = downloaded;\n",
              "          }\n",
              "        }\n",
              "      }\n",
              "      const blob = new Blob(buffers, {type: 'application/binary'});\n",
              "      const a = document.createElement('a');\n",
              "      a.href = window.URL.createObjectURL(blob);\n",
              "      a.download = filename;\n",
              "      div.appendChild(a);\n",
              "      a.click();\n",
              "      div.remove();\n",
              "    }\n",
              "  "
            ],
            "text/plain": [
              "<IPython.core.display.Javascript object>"
            ]
          },
          "metadata": {
            "tags": []
          }
        },
        {
          "output_type": "display_data",
          "data": {
            "application/javascript": [
              "download(\"download_e98c8b4d-1400-4be2-a4e7-608684a7c618\", \"total_ica_payment_v2.csv\", 15445934)"
            ],
            "text/plain": [
              "<IPython.core.display.Javascript object>"
            ]
          },
          "metadata": {
            "tags": []
          }
        }
      ]
    },
    {
      "cell_type": "code",
      "metadata": {
        "id": "9t2N0SHY54jA"
      },
      "source": [
        "shifted_ica_payment=pd.read_csv(\"/content/drive/MyDrive/Data/clean_ica_payment_v2_(correct_date).csv\")"
      ],
      "execution_count": null,
      "outputs": []
    },
    {
      "cell_type": "code",
      "metadata": {
        "colab": {
          "base_uri": "https://localhost:8080/"
        },
        "id": "uW8OSeV3KVyn",
        "outputId": "92602db8-20e1-44d0-c549-5752b6c2dbb5"
      },
      "source": [
        "time_series=shifted_ica_payment[[\"valor_factura\",\"fecha_pago_actual\"]]\n",
        "time_series[\"fecha_pago_actual\"]=pd.to_datetime(time_series[\"fecha_pago_actual\"],format=\"%Y-%m\")\n",
        "time_series=time_series[(time_series[\"fecha_pago_actual\"].dt.year>=2016) & (time_series[\"fecha_pago_actual\"].dt.year<=2020)]\n",
        "time_series[\"valor_factura\"]=time_series[\"valor_factura\"].fillna(0)"
      ],
      "execution_count": null,
      "outputs": [
        {
          "output_type": "stream",
          "text": [
            "/usr/local/lib/python3.7/dist-packages/ipykernel_launcher.py:2: SettingWithCopyWarning: \n",
            "A value is trying to be set on a copy of a slice from a DataFrame.\n",
            "Try using .loc[row_indexer,col_indexer] = value instead\n",
            "\n",
            "See the caveats in the documentation: https://pandas.pydata.org/pandas-docs/stable/user_guide/indexing.html#returning-a-view-versus-a-copy\n",
            "  \n"
          ],
          "name": "stderr"
        }
      ]
    },
    {
      "cell_type": "code",
      "metadata": {
        "id": "X5QWN-DuBiQ9",
        "colab": {
          "base_uri": "https://localhost:8080/",
          "height": 230
        },
        "outputId": "96d60c56-b6f3-4a67-baf1-1a9295ae85b1"
      },
      "source": [
        "time_series_ica=time_series.groupby(\"fecha_pago_actual\").sum()\n",
        "time_series_ica.head()"
      ],
      "execution_count": null,
      "outputs": [
        {
          "output_type": "execute_result",
          "data": {
            "text/html": [
              "<div>\n",
              "<style scoped>\n",
              "    .dataframe tbody tr th:only-of-type {\n",
              "        vertical-align: middle;\n",
              "    }\n",
              "\n",
              "    .dataframe tbody tr th {\n",
              "        vertical-align: top;\n",
              "    }\n",
              "\n",
              "    .dataframe thead th {\n",
              "        text-align: right;\n",
              "    }\n",
              "</style>\n",
              "<table border=\"1\" class=\"dataframe\">\n",
              "  <thead>\n",
              "    <tr style=\"text-align: right;\">\n",
              "      <th></th>\n",
              "      <th>valor_factura</th>\n",
              "    </tr>\n",
              "    <tr>\n",
              "      <th>fecha_pago_actual</th>\n",
              "      <th></th>\n",
              "    </tr>\n",
              "  </thead>\n",
              "  <tbody>\n",
              "    <tr>\n",
              "      <th>2016-01-01</th>\n",
              "      <td>2.797808e+09</td>\n",
              "    </tr>\n",
              "    <tr>\n",
              "      <th>2016-02-01</th>\n",
              "      <td>2.634532e+09</td>\n",
              "    </tr>\n",
              "    <tr>\n",
              "      <th>2016-03-01</th>\n",
              "      <td>3.262727e+09</td>\n",
              "    </tr>\n",
              "    <tr>\n",
              "      <th>2016-04-01</th>\n",
              "      <td>4.149151e+09</td>\n",
              "    </tr>\n",
              "    <tr>\n",
              "      <th>2016-05-01</th>\n",
              "      <td>4.084250e+09</td>\n",
              "    </tr>\n",
              "  </tbody>\n",
              "</table>\n",
              "</div>"
            ],
            "text/plain": [
              "                   valor_factura\n",
              "fecha_pago_actual               \n",
              "2016-01-01          2.797808e+09\n",
              "2016-02-01          2.634532e+09\n",
              "2016-03-01          3.262727e+09\n",
              "2016-04-01          4.149151e+09\n",
              "2016-05-01          4.084250e+09"
            ]
          },
          "metadata": {
            "tags": []
          },
          "execution_count": 8
        }
      ]
    },
    {
      "cell_type": "code",
      "metadata": {
        "id": "5GARYvra_kW9"
      },
      "source": [
        "years = mdates.YearLocator()   # every year\n",
        "months = mdates.MonthLocator()  # every month\n",
        "years_fmt = mdates.DateFormatter('%Y-%m') #This is a format. Will be clear in Screenshot\n",
        "\n",
        "fig, axes = plt.subplots(figsize=(15,7))\n",
        "sns.lineplot(x=\"fecha_pago_actual\",y=\"valor_factura\",data=time_series_ica)\n",
        "axes.xaxis.set_major_locator(months)\n",
        "axes.xaxis.set_major_formatter(years_fmt)\n",
        "axes.xaxis.set_minor_locator(months)\n",
        "axes.set(xlabel=\"Current payment date\",ylabel=\"Payment amount\")\n",
        "\n",
        "plt.xticks(rotation = 'vertical')\n",
        "plt.show()\n",
        "\n",
        "#There are regular peaks in december of each year, for the last two years, altough peaks are uneven.\n",
        "#Time series seems stationary on mean and variance. This can be researched further with a unit root test."
      ],
      "execution_count": null,
      "outputs": []
    },
    {
      "cell_type": "code",
      "metadata": {
        "id": "adcKHX4GF_-E"
      },
      "source": [
        "time_series_ica.to_csv(\"time_series_ica.csv\")"
      ],
      "execution_count": null,
      "outputs": []
    },
    {
      "cell_type": "code",
      "metadata": {
        "id": "1JdcAo8uBoMj",
        "colab": {
          "base_uri": "https://localhost:8080/"
        },
        "outputId": "7d468f13-3fcf-47e1-edcf-5640bdac6f12"
      },
      "source": [
        "from rpy2.robjects.packages import importr\n",
        "%load_ext rpy2.ipython"
      ],
      "execution_count": null,
      "outputs": [
        {
          "output_type": "stream",
          "text": [
            "The rpy2.ipython extension is already loaded. To reload it, use:\n",
            "  %reload_ext rpy2.ipython\n"
          ],
          "name": "stdout"
        }
      ]
    },
    {
      "cell_type": "code",
      "metadata": {
        "id": "kXmo3aNaEEql",
        "colab": {
          "base_uri": "https://localhost:8080/"
        },
        "outputId": "e67c34e0-306b-4a7c-e4c0-bda28d1b56a3"
      },
      "source": [
        "%%R\n",
        "install.packages(\"urca\")"
      ],
      "execution_count": null,
      "outputs": [
        {
          "output_type": "stream",
          "text": [
            "R[write to console]: Installing package into ‘/usr/local/lib/R/site-library’\n",
            "(as ‘lib’ is unspecified)\n",
            "\n",
            "R[write to console]: trying URL 'https://cran.rstudio.com/src/contrib/urca_1.3-0.tar.gz'\n",
            "\n",
            "R[write to console]: Content type 'application/x-gzip'\n",
            "R[write to console]:  length 682935 bytes (666 KB)\n",
            "\n",
            "R[write to console]: =\n",
            "R[write to console]: =\n",
            "R[write to console]: =\n",
            "R[write to console]: =\n",
            "R[write to console]: =\n",
            "R[write to console]: =\n",
            "R[write to console]: =\n",
            "R[write to console]: =\n",
            "R[write to console]: =\n",
            "R[write to console]: =\n",
            "R[write to console]: =\n",
            "R[write to console]: =\n",
            "R[write to console]: =\n",
            "R[write to console]: =\n",
            "R[write to console]: =\n",
            "R[write to console]: =\n",
            "R[write to console]: =\n",
            "R[write to console]: =\n",
            "R[write to console]: =\n",
            "R[write to console]: =\n",
            "R[write to console]: =\n",
            "R[write to console]: =\n",
            "R[write to console]: =\n",
            "R[write to console]: =\n",
            "R[write to console]: =\n",
            "R[write to console]: =\n",
            "R[write to console]: =\n",
            "R[write to console]: =\n",
            "R[write to console]: =\n",
            "R[write to console]: =\n",
            "R[write to console]: =\n",
            "R[write to console]: =\n",
            "R[write to console]: =\n",
            "R[write to console]: =\n",
            "R[write to console]: =\n",
            "R[write to console]: =\n",
            "R[write to console]: =\n",
            "R[write to console]: =\n",
            "R[write to console]: =\n",
            "R[write to console]: =\n",
            "R[write to console]: =\n",
            "R[write to console]: =\n",
            "R[write to console]: =\n",
            "R[write to console]: =\n",
            "R[write to console]: =\n",
            "R[write to console]: =\n",
            "R[write to console]: =\n",
            "R[write to console]: =\n",
            "R[write to console]: =\n",
            "R[write to console]: =\n",
            "R[write to console]: \n",
            "\n",
            "R[write to console]: downloaded 666 KB\n",
            "\n",
            "\n",
            "R[write to console]: \n",
            "\n",
            "R[write to console]: \n",
            "R[write to console]: The downloaded source packages are in\n",
            "\t‘/tmp/Rtmp8npKRv/downloaded_packages’\n",
            "R[write to console]: \n",
            "R[write to console]: \n",
            "\n"
          ],
          "name": "stderr"
        }
      ]
    },
    {
      "cell_type": "code",
      "metadata": {
        "colab": {
          "base_uri": "https://localhost:8080/"
        },
        "id": "dzwQhxtYFMGL",
        "outputId": "14d7413b-15cd-42ca-8dd1-fd7db4bafccd"
      },
      "source": [
        "%%R\n",
        " \n",
        "library(urca)\n",
        "time_series_ica=read.csv(\"time_series_ica.csv\")\n",
        "summary(ur.df(time_series_ica$valor_factura,type=\"drift\",lag=1))#Try with different lags and leave only the significant ones.\n",
        "#Ya que el estadístico de prueba es -5.352, y está a la derecha de los valores críticos (tau3), se rechaza la hipótesis nula de raiz unitaria\n",
        "# y por tanto se tiene que la serie es estacionaria en media. No obstante, se sospecha estacionalidad en la serie y por tanto, se quiere emplear otra prueba\n",
        "#de raíz unitaria."
      ],
      "execution_count": null,
      "outputs": [
        {
          "output_type": "stream",
          "text": [
            "\n",
            "############################################### \n",
            "# Augmented Dickey-Fuller Test Unit Root Test # \n",
            "############################################### \n",
            "\n",
            "Test regression trend \n",
            "\n",
            "\n",
            "Call:\n",
            "lm(formula = z.diff ~ z.lag.1 + 1 + tt + z.diff.lag)\n",
            "\n",
            "Residuals:\n",
            "       Min         1Q     Median         3Q        Max \n",
            "-4.506e+09 -1.155e+09 -4.443e+08  2.526e+08  1.757e+10 \n",
            "\n",
            "Coefficients:\n",
            "              Estimate Std. Error t value Pr(>|t|)    \n",
            "(Intercept)  4.138e+09  1.076e+09   3.845  0.00032 ***\n",
            "z.lag.1     -1.097e+00  2.049e-01  -5.352 1.82e-06 ***\n",
            "tt           1.211e+07  2.363e+07   0.513  0.61036    \n",
            "z.diff.lag   2.572e-02  1.394e-01   0.184  0.85432    \n",
            "---\n",
            "Signif. codes:  0 ‘***’ 0.001 ‘**’ 0.01 ‘*’ 0.05 ‘.’ 0.1 ‘ ’ 1\n",
            "\n",
            "Residual standard error: 2.957e+09 on 54 degrees of freedom\n",
            "Multiple R-squared:  0.5249,\tAdjusted R-squared:  0.4985 \n",
            "F-statistic: 19.88 on 3 and 54 DF,  p-value: 8.229e-09\n",
            "\n",
            "\n",
            "Value of test-statistic is: -5.352 9.6424 14.4581 \n",
            "\n",
            "Critical values for test statistics: \n",
            "      1pct  5pct 10pct\n",
            "tau3 -4.04 -3.45 -3.15\n",
            "phi2  6.50  4.88  4.16\n",
            "phi3  8.73  6.49  5.47\n",
            "\n"
          ],
          "name": "stdout"
        }
      ]
    },
    {
      "cell_type": "code",
      "metadata": {
        "colab": {
          "base_uri": "https://localhost:8080/"
        },
        "id": "Fry3nP6QU2qz",
        "outputId": "ff3964b0-b3e3-4dbc-ed9a-fe0828018d84"
      },
      "source": [
        "#No variance transformation seems necessary altough lambda parameter can be investigated.\n",
        "\n",
        "stats.boxcox(time_series_ica['valor_factura'])[1]"
      ],
      "execution_count": null,
      "outputs": [
        {
          "output_type": "execute_result",
          "data": {
            "text/plain": [
              "0.4002212948262593"
            ]
          },
          "metadata": {
            "tags": []
          },
          "execution_count": 168
        }
      ]
    },
    {
      "cell_type": "markdown",
      "metadata": {
        "id": "fNT0e6wiyffp"
      },
      "source": [
        "## FACTURA"
      ]
    },
    {
      "cell_type": "code",
      "metadata": {
        "id": "VT6UwzZlyh6Q"
      },
      "source": [
        "ica_declaration=pd.read_csv(\"/content/drive/MyDrive/Data/clean_ica_declaration.csv\",engine=\"python\")"
      ],
      "execution_count": null,
      "outputs": []
    },
    {
      "cell_type": "code",
      "metadata": {
        "colab": {
          "base_uri": "https://localhost:8080/"
        },
        "id": "CTnAJ7yX09g6",
        "outputId": "3a0c0d45-1397-4668-b7e1-5623b40ef106"
      },
      "source": [
        "ica_declaration.info()\n",
        " \n",
        "#No es posible mensualizar porque no contiene información sobre último pago."
      ],
      "execution_count": null,
      "outputs": [
        {
          "output_type": "stream",
          "text": [
            "<class 'pandas.core.frame.DataFrame'>\n",
            "RangeIndex: 35045 entries, 0 to 35044\n",
            "Data columns (total 12 columns):\n",
            " #   Column                   Non-Null Count  Dtype  \n",
            "---  ------                   --------------  -----  \n",
            " 0   nit_cedula               35045 non-null  int64  \n",
            " 1   clase                    35045 non-null  object \n",
            " 2   naturaleza               35045 non-null  object \n",
            " 3   nombre_declaracion       35045 non-null  object \n",
            " 4   base_gravable            35045 non-null  object \n",
            " 5   tarifa                   35045 non-null  float64\n",
            " 6   valor_impuesto           35045 non-null  object \n",
            " 7   valor_concepto           25285 non-null  object \n",
            " 8   id_declara_ano_gravable  35045 non-null  int64  \n",
            " 9   ciuu_section             35045 non-null  object \n",
            " 10  year                     35045 non-null  int64  \n",
            " 11  concepto                 25283 non-null  object \n",
            "dtypes: float64(1), int64(3), object(8)\n",
            "memory usage: 3.2+ MB\n"
          ],
          "name": "stdout"
        }
      ]
    },
    {
      "cell_type": "code",
      "metadata": {
        "id": "MMjqdfvH1Tm_"
      },
      "source": [
        ""
      ],
      "execution_count": null,
      "outputs": []
    },
    {
      "cell_type": "markdown",
      "metadata": {
        "id": "mdAf_3c4b1uD"
      },
      "source": [
        "# PREDIAL"
      ]
    },
    {
      "cell_type": "code",
      "metadata": {
        "colab": {
          "base_uri": "https://localhost:8080/"
        },
        "id": "KLyDQBc5zKC7",
        "outputId": "76c9f9d5-5223-4f9e-b82d-443e794e4236"
      },
      "source": [
        "predial_payment=pd.read_csv(\"/content/drive/MyDrive/Data/clean_predial_payment.csv\")"
      ],
      "execution_count": null,
      "outputs": [
        {
          "output_type": "stream",
          "text": [
            "/usr/local/lib/python3.7/dist-packages/IPython/core/interactiveshell.py:2718: DtypeWarning: Columns (9) have mixed types.Specify dtype option on import or set low_memory=False.\n",
            "  interactivity=interactivity, compiler=compiler, result=result)\n"
          ],
          "name": "stderr"
        }
      ]
    },
    {
      "cell_type": "code",
      "metadata": {
        "colab": {
          "base_uri": "https://localhost:8080/",
          "height": 200
        },
        "id": "xXq_HIIUzUei",
        "outputId": "1a981bda-92e3-44d5-ca72-3752a8ac027e"
      },
      "source": [
        "predial_payment.head()"
      ],
      "execution_count": null,
      "outputs": [
        {
          "output_type": "execute_result",
          "data": {
            "text/html": [
              "<div>\n",
              "<style scoped>\n",
              "    .dataframe tbody tr th:only-of-type {\n",
              "        vertical-align: middle;\n",
              "    }\n",
              "\n",
              "    .dataframe tbody tr th {\n",
              "        vertical-align: top;\n",
              "    }\n",
              "\n",
              "    .dataframe thead th {\n",
              "        text-align: right;\n",
              "    }\n",
              "</style>\n",
              "<table border=\"1\" class=\"dataframe\">\n",
              "  <thead>\n",
              "    <tr style=\"text-align: right;\">\n",
              "      <th></th>\n",
              "      <th>id_factura</th>\n",
              "      <th>valor_factura</th>\n",
              "      <th>nit_cedula</th>\n",
              "      <th>nombre_pago</th>\n",
              "      <th>codigo_catrastral</th>\n",
              "      <th>proindiviso</th>\n",
              "      <th>fecha_ultimo_pago</th>\n",
              "      <th>valor_conceptos</th>\n",
              "      <th>year</th>\n",
              "      <th>unnamed_col</th>\n",
              "    </tr>\n",
              "  </thead>\n",
              "  <tbody>\n",
              "    <tr>\n",
              "      <th>0</th>\n",
              "      <td>2016001</td>\n",
              "      <td>930.783</td>\n",
              "      <td>15438574</td>\n",
              "      <td>CARDONA ECHEVERRI FERNEY</td>\n",
              "      <td>1.010100e+21</td>\n",
              "      <td>100.00</td>\n",
              "      <td>201501.0</td>\n",
              "      <td>0</td>\n",
              "      <td>2016</td>\n",
              "      <td>NaN</td>\n",
              "    </tr>\n",
              "    <tr>\n",
              "      <th>1</th>\n",
              "      <td>2016001</td>\n",
              "      <td>930.783</td>\n",
              "      <td>15438574</td>\n",
              "      <td>CARDONA ECHEVERRI FERNEY</td>\n",
              "      <td>1.010310e+21</td>\n",
              "      <td>5.26</td>\n",
              "      <td>201502.0</td>\n",
              "      <td>0</td>\n",
              "      <td>2016</td>\n",
              "      <td>NaN</td>\n",
              "    </tr>\n",
              "    <tr>\n",
              "      <th>2</th>\n",
              "      <td>2016001</td>\n",
              "      <td>930.783</td>\n",
              "      <td>15438574</td>\n",
              "      <td>CARDONA ECHEVERRI FERNEY</td>\n",
              "      <td>1.010310e+21</td>\n",
              "      <td>100.00</td>\n",
              "      <td>201502.0</td>\n",
              "      <td>0</td>\n",
              "      <td>2016</td>\n",
              "      <td>NaN</td>\n",
              "    </tr>\n",
              "    <tr>\n",
              "      <th>3</th>\n",
              "      <td>201600171</td>\n",
              "      <td>154.565</td>\n",
              "      <td>15445559</td>\n",
              "      <td>AVILA GAVIRIA MARIO ALEJANDRO</td>\n",
              "      <td>1.010100e+21</td>\n",
              "      <td>100.00</td>\n",
              "      <td>201504.0</td>\n",
              "      <td>0</td>\n",
              "      <td>2016</td>\n",
              "      <td>NaN</td>\n",
              "    </tr>\n",
              "    <tr>\n",
              "      <th>4</th>\n",
              "      <td>201600358</td>\n",
              "      <td>65.523.249</td>\n",
              "      <td>890981947</td>\n",
              "      <td>CORPORACION CLUB CAMPESTRE</td>\n",
              "      <td>2.020000e+21</td>\n",
              "      <td>100.00</td>\n",
              "      <td>201504.0</td>\n",
              "      <td>0</td>\n",
              "      <td>2016</td>\n",
              "      <td>NaN</td>\n",
              "    </tr>\n",
              "  </tbody>\n",
              "</table>\n",
              "</div>"
            ],
            "text/plain": [
              "   id_factura valor_factura nit_cedula  ... valor_conceptos  year  unnamed_col\n",
              "0     2016001       930.783   15438574  ...               0  2016          NaN\n",
              "1     2016001       930.783   15438574  ...               0  2016          NaN\n",
              "2     2016001       930.783   15438574  ...               0  2016          NaN\n",
              "3   201600171       154.565   15445559  ...               0  2016          NaN\n",
              "4   201600358    65.523.249  890981947  ...               0  2016          NaN\n",
              "\n",
              "[5 rows x 10 columns]"
            ]
          },
          "metadata": {
            "tags": []
          },
          "execution_count": 3
        }
      ]
    },
    {
      "cell_type": "code",
      "metadata": {
        "id": "nEjrejV71UJZ"
      },
      "source": [
        "predial_payment[\"fecha_ultimo_pago\"]=pd.to_datetime(predial_payment[\"fecha_ultimo_pago\"],format='%Y%m')\n",
        "predial_payment[\"mes_ultimo_pago\"]=predial_payment[\"fecha_ultimo_pago\"].dt.month\n",
        "predial_payment[\"ano_ultimo_pago\"]=predial_payment[\"fecha_ultimo_pago\"].dt.year"
      ],
      "execution_count": null,
      "outputs": []
    },
    {
      "cell_type": "code",
      "metadata": {
        "colab": {
          "base_uri": "https://localhost:8080/",
          "height": 1000
        },
        "id": "9wqJqrr931FK",
        "outputId": "fbbfd609-996e-4106-92a3-8c67b5e99576"
      },
      "source": [
        "#Property tax is only paid in some months of the year.\n",
        "\n",
        "pd.crosstab(predial_payment[\"ano_ultimo_pago\"],predial_payment[\"mes_ultimo_pago\"])"
      ],
      "execution_count": null,
      "outputs": [
        {
          "output_type": "execute_result",
          "data": {
            "text/html": [
              "<div>\n",
              "<style scoped>\n",
              "    .dataframe tbody tr th:only-of-type {\n",
              "        vertical-align: middle;\n",
              "    }\n",
              "\n",
              "    .dataframe tbody tr th {\n",
              "        vertical-align: top;\n",
              "    }\n",
              "\n",
              "    .dataframe thead th {\n",
              "        text-align: right;\n",
              "    }\n",
              "</style>\n",
              "<table border=\"1\" class=\"dataframe\">\n",
              "  <thead>\n",
              "    <tr style=\"text-align: right;\">\n",
              "      <th>mes_ultimo_pago</th>\n",
              "      <th>1.0</th>\n",
              "      <th>2.0</th>\n",
              "      <th>3.0</th>\n",
              "      <th>4.0</th>\n",
              "      <th>12.0</th>\n",
              "    </tr>\n",
              "    <tr>\n",
              "      <th>ano_ultimo_pago</th>\n",
              "      <th></th>\n",
              "      <th></th>\n",
              "      <th></th>\n",
              "      <th></th>\n",
              "      <th></th>\n",
              "    </tr>\n",
              "  </thead>\n",
              "  <tbody>\n",
              "    <tr>\n",
              "      <th>1991.0</th>\n",
              "      <td>0</td>\n",
              "      <td>0</td>\n",
              "      <td>0</td>\n",
              "      <td>31</td>\n",
              "      <td>0</td>\n",
              "    </tr>\n",
              "    <tr>\n",
              "      <th>1992.0</th>\n",
              "      <td>2</td>\n",
              "      <td>0</td>\n",
              "      <td>0</td>\n",
              "      <td>3</td>\n",
              "      <td>0</td>\n",
              "    </tr>\n",
              "    <tr>\n",
              "      <th>1993.0</th>\n",
              "      <td>0</td>\n",
              "      <td>3</td>\n",
              "      <td>1</td>\n",
              "      <td>3</td>\n",
              "      <td>0</td>\n",
              "    </tr>\n",
              "    <tr>\n",
              "      <th>1994.0</th>\n",
              "      <td>8</td>\n",
              "      <td>3</td>\n",
              "      <td>1</td>\n",
              "      <td>5</td>\n",
              "      <td>0</td>\n",
              "    </tr>\n",
              "    <tr>\n",
              "      <th>1995.0</th>\n",
              "      <td>1</td>\n",
              "      <td>1</td>\n",
              "      <td>2</td>\n",
              "      <td>6</td>\n",
              "      <td>0</td>\n",
              "    </tr>\n",
              "    <tr>\n",
              "      <th>1996.0</th>\n",
              "      <td>3</td>\n",
              "      <td>2</td>\n",
              "      <td>2</td>\n",
              "      <td>14</td>\n",
              "      <td>0</td>\n",
              "    </tr>\n",
              "    <tr>\n",
              "      <th>1997.0</th>\n",
              "      <td>5</td>\n",
              "      <td>4</td>\n",
              "      <td>5</td>\n",
              "      <td>23</td>\n",
              "      <td>0</td>\n",
              "    </tr>\n",
              "    <tr>\n",
              "      <th>1998.0</th>\n",
              "      <td>7</td>\n",
              "      <td>6</td>\n",
              "      <td>7</td>\n",
              "      <td>23</td>\n",
              "      <td>0</td>\n",
              "    </tr>\n",
              "    <tr>\n",
              "      <th>1999.0</th>\n",
              "      <td>10</td>\n",
              "      <td>9</td>\n",
              "      <td>8</td>\n",
              "      <td>27</td>\n",
              "      <td>0</td>\n",
              "    </tr>\n",
              "    <tr>\n",
              "      <th>2000.0</th>\n",
              "      <td>11</td>\n",
              "      <td>8</td>\n",
              "      <td>11</td>\n",
              "      <td>24</td>\n",
              "      <td>0</td>\n",
              "    </tr>\n",
              "    <tr>\n",
              "      <th>2001.0</th>\n",
              "      <td>9</td>\n",
              "      <td>5</td>\n",
              "      <td>6</td>\n",
              "      <td>32</td>\n",
              "      <td>0</td>\n",
              "    </tr>\n",
              "    <tr>\n",
              "      <th>2002.0</th>\n",
              "      <td>12</td>\n",
              "      <td>12</td>\n",
              "      <td>10</td>\n",
              "      <td>28</td>\n",
              "      <td>0</td>\n",
              "    </tr>\n",
              "    <tr>\n",
              "      <th>2003.0</th>\n",
              "      <td>33</td>\n",
              "      <td>13</td>\n",
              "      <td>23</td>\n",
              "      <td>34</td>\n",
              "      <td>0</td>\n",
              "    </tr>\n",
              "    <tr>\n",
              "      <th>2004.0</th>\n",
              "      <td>10</td>\n",
              "      <td>18</td>\n",
              "      <td>26</td>\n",
              "      <td>92</td>\n",
              "      <td>0</td>\n",
              "    </tr>\n",
              "    <tr>\n",
              "      <th>2005.0</th>\n",
              "      <td>22</td>\n",
              "      <td>19</td>\n",
              "      <td>20</td>\n",
              "      <td>80</td>\n",
              "      <td>0</td>\n",
              "    </tr>\n",
              "    <tr>\n",
              "      <th>2006.0</th>\n",
              "      <td>22</td>\n",
              "      <td>31</td>\n",
              "      <td>31</td>\n",
              "      <td>84</td>\n",
              "      <td>0</td>\n",
              "    </tr>\n",
              "    <tr>\n",
              "      <th>2007.0</th>\n",
              "      <td>49</td>\n",
              "      <td>63</td>\n",
              "      <td>40</td>\n",
              "      <td>125</td>\n",
              "      <td>0</td>\n",
              "    </tr>\n",
              "    <tr>\n",
              "      <th>2008.0</th>\n",
              "      <td>47</td>\n",
              "      <td>77</td>\n",
              "      <td>67</td>\n",
              "      <td>249</td>\n",
              "      <td>1</td>\n",
              "    </tr>\n",
              "    <tr>\n",
              "      <th>2009.0</th>\n",
              "      <td>105</td>\n",
              "      <td>111</td>\n",
              "      <td>118</td>\n",
              "      <td>327</td>\n",
              "      <td>0</td>\n",
              "    </tr>\n",
              "    <tr>\n",
              "      <th>2010.0</th>\n",
              "      <td>120</td>\n",
              "      <td>123</td>\n",
              "      <td>135</td>\n",
              "      <td>750</td>\n",
              "      <td>0</td>\n",
              "    </tr>\n",
              "    <tr>\n",
              "      <th>2011.0</th>\n",
              "      <td>176</td>\n",
              "      <td>213</td>\n",
              "      <td>207</td>\n",
              "      <td>1846</td>\n",
              "      <td>0</td>\n",
              "    </tr>\n",
              "    <tr>\n",
              "      <th>2012.0</th>\n",
              "      <td>362</td>\n",
              "      <td>385</td>\n",
              "      <td>376</td>\n",
              "      <td>1529</td>\n",
              "      <td>0</td>\n",
              "    </tr>\n",
              "    <tr>\n",
              "      <th>2013.0</th>\n",
              "      <td>459</td>\n",
              "      <td>580</td>\n",
              "      <td>608</td>\n",
              "      <td>1625</td>\n",
              "      <td>0</td>\n",
              "    </tr>\n",
              "    <tr>\n",
              "      <th>2014.0</th>\n",
              "      <td>779</td>\n",
              "      <td>954</td>\n",
              "      <td>874</td>\n",
              "      <td>3349</td>\n",
              "      <td>0</td>\n",
              "    </tr>\n",
              "    <tr>\n",
              "      <th>2015.0</th>\n",
              "      <td>1144</td>\n",
              "      <td>2323</td>\n",
              "      <td>2889</td>\n",
              "      <td>22331</td>\n",
              "      <td>0</td>\n",
              "    </tr>\n",
              "    <tr>\n",
              "      <th>2016.0</th>\n",
              "      <td>25778</td>\n",
              "      <td>7500</td>\n",
              "      <td>7253</td>\n",
              "      <td>56060</td>\n",
              "      <td>0</td>\n",
              "    </tr>\n",
              "    <tr>\n",
              "      <th>2017.0</th>\n",
              "      <td>3849</td>\n",
              "      <td>7053</td>\n",
              "      <td>5833</td>\n",
              "      <td>76028</td>\n",
              "      <td>0</td>\n",
              "    </tr>\n",
              "    <tr>\n",
              "      <th>2018.0</th>\n",
              "      <td>3372</td>\n",
              "      <td>5107</td>\n",
              "      <td>6144</td>\n",
              "      <td>62244</td>\n",
              "      <td>0</td>\n",
              "    </tr>\n",
              "    <tr>\n",
              "      <th>2019.0</th>\n",
              "      <td>3591</td>\n",
              "      <td>4972</td>\n",
              "      <td>3767</td>\n",
              "      <td>63324</td>\n",
              "      <td>0</td>\n",
              "    </tr>\n",
              "    <tr>\n",
              "      <th>2020.0</th>\n",
              "      <td>2041</td>\n",
              "      <td>2321</td>\n",
              "      <td>1243</td>\n",
              "      <td>55280</td>\n",
              "      <td>0</td>\n",
              "    </tr>\n",
              "    <tr>\n",
              "      <th>2021.0</th>\n",
              "      <td>7</td>\n",
              "      <td>0</td>\n",
              "      <td>0</td>\n",
              "      <td>125</td>\n",
              "      <td>0</td>\n",
              "    </tr>\n",
              "  </tbody>\n",
              "</table>\n",
              "</div>"
            ],
            "text/plain": [
              "mes_ultimo_pago   1.0   2.0   3.0    4.0   12.0\n",
              "ano_ultimo_pago                                \n",
              "1991.0               0     0     0     31     0\n",
              "1992.0               2     0     0      3     0\n",
              "1993.0               0     3     1      3     0\n",
              "1994.0               8     3     1      5     0\n",
              "1995.0               1     1     2      6     0\n",
              "1996.0               3     2     2     14     0\n",
              "1997.0               5     4     5     23     0\n",
              "1998.0               7     6     7     23     0\n",
              "1999.0              10     9     8     27     0\n",
              "2000.0              11     8    11     24     0\n",
              "2001.0               9     5     6     32     0\n",
              "2002.0              12    12    10     28     0\n",
              "2003.0              33    13    23     34     0\n",
              "2004.0              10    18    26     92     0\n",
              "2005.0              22    19    20     80     0\n",
              "2006.0              22    31    31     84     0\n",
              "2007.0              49    63    40    125     0\n",
              "2008.0              47    77    67    249     1\n",
              "2009.0             105   111   118    327     0\n",
              "2010.0             120   123   135    750     0\n",
              "2011.0             176   213   207   1846     0\n",
              "2012.0             362   385   376   1529     0\n",
              "2013.0             459   580   608   1625     0\n",
              "2014.0             779   954   874   3349     0\n",
              "2015.0            1144  2323  2889  22331     0\n",
              "2016.0           25778  7500  7253  56060     0\n",
              "2017.0            3849  7053  5833  76028     0\n",
              "2018.0            3372  5107  6144  62244     0\n",
              "2019.0            3591  4972  3767  63324     0\n",
              "2020.0            2041  2321  1243  55280     0\n",
              "2021.0               7     0     0    125     0"
            ]
          },
          "metadata": {
            "tags": []
          },
          "execution_count": 114
        }
      ]
    },
    {
      "cell_type": "code",
      "metadata": {
        "id": "tw09MqORo_VV"
      },
      "source": [
        "shifted_predial_payment=pd.read_csv(\"/content/drive/MyDrive/Data/clean_predial_payment_v3_(correct_date).csv\",sep=\";\")"
      ],
      "execution_count": null,
      "outputs": []
    },
    {
      "cell_type": "code",
      "metadata": {
        "id": "8Bm0CoPtCFDH"
      },
      "source": [
        "shifted_predial_payment[\"fecha_pago_actual_trimestral\"]=pd.to_datetime(shifted_predial_payment[\"fecha_pago_actual_trimestral\"],format=\"%Y%m\").dt.to_period(\"Q\")"
      ],
      "execution_count": null,
      "outputs": []
    },
    {
      "cell_type": "code",
      "metadata": {
        "id": "SSHkIfaEWWrQ"
      },
      "source": [
        "time_series_predial=shifted_predial_payment[[\"valor_factura\",\"fecha_pago_actual_trimestral\"]]\n",
        "#time_series_predial[\"fecha_pago_actual_trimestral\"]=pd.to_datetime(time_series_predial[\"fecha_pago_actual_trimestral\"],format=\"%Y%m\")\n",
        "time_series_predial=time_series_predial[(time_series_predial[\"fecha_pago_actual_trimestral\"].dt.year>=2016) & (time_series_predial[\"fecha_pago_actual_trimestral\"].dt.year<=2020)]\n",
        "time_series_predial[\"valor_factura\"]=time_series_predial[\"valor_factura\"].fillna(0)"
      ],
      "execution_count": null,
      "outputs": []
    },
    {
      "cell_type": "code",
      "metadata": {
        "id": "wc6fZcGjFYFn"
      },
      "source": [
        "time_series_predial[\"fecha_pago_tri_str\"]=time_series_predial['fecha_pago_actual_trimestral'].astype('string')"
      ],
      "execution_count": null,
      "outputs": []
    },
    {
      "cell_type": "code",
      "metadata": {
        "id": "CBM7dM-sXebh"
      },
      "source": [
        "time_series_precial_grouped=time_series_predial.groupby(\"fecha_pago_tri_str\").sum()"
      ],
      "execution_count": null,
      "outputs": []
    },
    {
      "cell_type": "code",
      "metadata": {
        "colab": {
          "base_uri": "https://localhost:8080/",
          "height": 230
        },
        "id": "J3oMmglQGd4O",
        "outputId": "15c0ad24-9b06-42df-c717-71ef6076bebf"
      },
      "source": [
        "time_series_precial_grouped.valor_factura=time_series_precial_grouped.valor_factura/1000000\n",
        "time_series_precial_grouped.head()"
      ],
      "execution_count": null,
      "outputs": [
        {
          "output_type": "execute_result",
          "data": {
            "text/html": [
              "<div>\n",
              "<style scoped>\n",
              "    .dataframe tbody tr th:only-of-type {\n",
              "        vertical-align: middle;\n",
              "    }\n",
              "\n",
              "    .dataframe tbody tr th {\n",
              "        vertical-align: top;\n",
              "    }\n",
              "\n",
              "    .dataframe thead th {\n",
              "        text-align: right;\n",
              "    }\n",
              "</style>\n",
              "<table border=\"1\" class=\"dataframe\">\n",
              "  <thead>\n",
              "    <tr style=\"text-align: right;\">\n",
              "      <th></th>\n",
              "      <th>valor_factura</th>\n",
              "    </tr>\n",
              "    <tr>\n",
              "      <th>fecha_pago_tri_str</th>\n",
              "      <th></th>\n",
              "    </tr>\n",
              "  </thead>\n",
              "  <tbody>\n",
              "    <tr>\n",
              "      <th>2016Q1</th>\n",
              "      <td>23769.485989</td>\n",
              "    </tr>\n",
              "    <tr>\n",
              "      <th>2016Q2</th>\n",
              "      <td>44423.648131</td>\n",
              "    </tr>\n",
              "    <tr>\n",
              "      <th>2016Q3</th>\n",
              "      <td>44333.463020</td>\n",
              "    </tr>\n",
              "    <tr>\n",
              "      <th>2016Q4</th>\n",
              "      <td>193289.465509</td>\n",
              "    </tr>\n",
              "    <tr>\n",
              "      <th>2017Q1</th>\n",
              "      <td>18627.026953</td>\n",
              "    </tr>\n",
              "  </tbody>\n",
              "</table>\n",
              "</div>"
            ],
            "text/plain": [
              "                    valor_factura\n",
              "fecha_pago_tri_str               \n",
              "2016Q1               23769.485989\n",
              "2016Q2               44423.648131\n",
              "2016Q3               44333.463020\n",
              "2016Q4              193289.465509\n",
              "2017Q1               18627.026953"
            ]
          },
          "metadata": {
            "tags": []
          },
          "execution_count": 15
        }
      ]
    },
    {
      "cell_type": "code",
      "metadata": {
        "colab": {
          "base_uri": "https://localhost:8080/",
          "height": 457
        },
        "id": "k4X60DvpGLSX",
        "outputId": "77f33ea4-1065-402e-891c-9c75e29092a4"
      },
      "source": [
        "fig, axes = plt.subplots(figsize=(15,7))\n",
        "plt.plot(time_series_precial_grouped.index, time_series_precial_grouped[\"valor_factura\"])\n",
        "\n",
        "plt.xticks(rotation = 'vertical')\n",
        "axes.ticklabel_format(useOffset=False, style='plain',axis=\"y\")\n",
        "plt.show()"
      ],
      "execution_count": null,
      "outputs": [
        {
          "output_type": "display_data",
          "data": {
            "image/png": "[encoded data removed]",
            "text/plain": [
              "<Figure size 1080x504 with 1 Axes>"
            ]
          },
          "metadata": {
            "tags": [],
            "needs_background": "light"
          }
        }
      ]
    },
    {
      "cell_type": "code",
      "metadata": {
        "id": "PXgkk7aVXjhI",
        "colab": {
          "base_uri": "https://localhost:8080/",
          "height": 776
        },
        "outputId": "e7b62f7a-3e13-4f38-f33c-a42d908ea57a"
      },
      "source": [
        "%matplotlib inline\n",
        "\n",
        "years = mdates.YearLocator()   # every year\n",
        "months = mdates.MonthLocator((1,4,7,10))  # every month\n",
        "years_fmt = mdates.DateFormatter('%Y') #This is a format. Will be clear in Screenshot\n",
        "\n",
        "fig, axes = plt.subplots(figsize=(15,7))\n",
        "sns.lineplot(x=\"fecha_pago_actual_trimestral\",y=\"valor_factura\",data=time_series_precial_grouped)\n",
        "axes.xaxis.set_major_locator(months)\n",
        "axes.xaxis.set_major_formatter(years_fmt)\n",
        "axes.xaxis.set_minor_locator(months)\n",
        "axes.set(xlabel=\"Current payment date\",ylabel=\"Payment amount\")\n",
        "\n",
        "plt.xticks(rotation = 'vertical')\n",
        "plt.show()"
      ],
      "execution_count": null,
      "outputs": [
        {
          "output_type": "error",
          "ename": "ValueError",
          "evalue": "ignored",
          "traceback": [
            "\u001b[0;31m---------------------------------------------------------------------------\u001b[0m",
            "\u001b[0;31mValueError\u001b[0m                                Traceback (most recent call last)",
            "\u001b[0;32m<ipython-input-18-8c38709fe2bd>\u001b[0m in \u001b[0;36m<module>\u001b[0;34m()\u001b[0m\n\u001b[1;32m      6\u001b[0m \u001b[0;34m\u001b[0m\u001b[0m\n\u001b[1;32m      7\u001b[0m \u001b[0mfig\u001b[0m\u001b[0;34m,\u001b[0m \u001b[0maxes\u001b[0m \u001b[0;34m=\u001b[0m \u001b[0mplt\u001b[0m\u001b[0;34m.\u001b[0m\u001b[0msubplots\u001b[0m\u001b[0;34m(\u001b[0m\u001b[0mfigsize\u001b[0m\u001b[0;34m=\u001b[0m\u001b[0;34m(\u001b[0m\u001b[0;36m15\u001b[0m\u001b[0;34m,\u001b[0m\u001b[0;36m7\u001b[0m\u001b[0;34m)\u001b[0m\u001b[0;34m)\u001b[0m\u001b[0;34m\u001b[0m\u001b[0;34m\u001b[0m\u001b[0m\n\u001b[0;32m----> 8\u001b[0;31m \u001b[0msns\u001b[0m\u001b[0;34m.\u001b[0m\u001b[0mlineplot\u001b[0m\u001b[0;34m(\u001b[0m\u001b[0mx\u001b[0m\u001b[0;34m=\u001b[0m\u001b[0;34m\"fecha_pago_actual_trimestral\"\u001b[0m\u001b[0;34m,\u001b[0m\u001b[0my\u001b[0m\u001b[0;34m=\u001b[0m\u001b[0;34m\"valor_factura\"\u001b[0m\u001b[0;34m,\u001b[0m\u001b[0mdata\u001b[0m\u001b[0;34m=\u001b[0m\u001b[0mtime_series_precial_grouped\u001b[0m\u001b[0;34m)\u001b[0m\u001b[0;34m\u001b[0m\u001b[0;34m\u001b[0m\u001b[0m\n\u001b[0m\u001b[1;32m      9\u001b[0m \u001b[0maxes\u001b[0m\u001b[0;34m.\u001b[0m\u001b[0mxaxis\u001b[0m\u001b[0;34m.\u001b[0m\u001b[0mset_major_locator\u001b[0m\u001b[0;34m(\u001b[0m\u001b[0mmonths\u001b[0m\u001b[0;34m)\u001b[0m\u001b[0;34m\u001b[0m\u001b[0;34m\u001b[0m\u001b[0m\n\u001b[1;32m     10\u001b[0m \u001b[0maxes\u001b[0m\u001b[0;34m.\u001b[0m\u001b[0mxaxis\u001b[0m\u001b[0;34m.\u001b[0m\u001b[0mset_major_formatter\u001b[0m\u001b[0;34m(\u001b[0m\u001b[0myears_fmt\u001b[0m\u001b[0;34m)\u001b[0m\u001b[0;34m\u001b[0m\u001b[0;34m\u001b[0m\u001b[0m\n",
            "\u001b[0;32m/usr/local/lib/python3.7/dist-packages/seaborn/_decorators.py\u001b[0m in \u001b[0;36minner_f\u001b[0;34m(*args, **kwargs)\u001b[0m\n\u001b[1;32m     44\u001b[0m             )\n\u001b[1;32m     45\u001b[0m         \u001b[0mkwargs\u001b[0m\u001b[0;34m.\u001b[0m\u001b[0mupdate\u001b[0m\u001b[0;34m(\u001b[0m\u001b[0;34m{\u001b[0m\u001b[0mk\u001b[0m\u001b[0;34m:\u001b[0m \u001b[0marg\u001b[0m \u001b[0;32mfor\u001b[0m \u001b[0mk\u001b[0m\u001b[0;34m,\u001b[0m \u001b[0marg\u001b[0m \u001b[0;32min\u001b[0m \u001b[0mzip\u001b[0m\u001b[0;34m(\u001b[0m\u001b[0msig\u001b[0m\u001b[0;34m.\u001b[0m\u001b[0mparameters\u001b[0m\u001b[0;34m,\u001b[0m \u001b[0margs\u001b[0m\u001b[0;34m)\u001b[0m\u001b[0;34m}\u001b[0m\u001b[0;34m)\u001b[0m\u001b[0;34m\u001b[0m\u001b[0;34m\u001b[0m\u001b[0m\n\u001b[0;32m---> 46\u001b[0;31m         \u001b[0;32mreturn\u001b[0m \u001b[0mf\u001b[0m\u001b[0;34m(\u001b[0m\u001b[0;34m**\u001b[0m\u001b[0mkwargs\u001b[0m\u001b[0;34m)\u001b[0m\u001b[0;34m\u001b[0m\u001b[0;34m\u001b[0m\u001b[0m\n\u001b[0m\u001b[1;32m     47\u001b[0m     \u001b[0;32mreturn\u001b[0m \u001b[0minner_f\u001b[0m\u001b[0;34m\u001b[0m\u001b[0;34m\u001b[0m\u001b[0m\n\u001b[1;32m     48\u001b[0m \u001b[0;34m\u001b[0m\u001b[0m\n",
            "\u001b[0;32m/usr/local/lib/python3.7/dist-packages/seaborn/relational.py\u001b[0m in \u001b[0;36mlineplot\u001b[0;34m(x, y, hue, size, style, data, palette, hue_order, hue_norm, sizes, size_order, size_norm, dashes, markers, style_order, units, estimator, ci, n_boot, seed, sort, err_style, err_kws, legend, ax, **kwargs)\u001b[0m\n\u001b[1;32m    686\u001b[0m         \u001b[0mdata\u001b[0m\u001b[0;34m=\u001b[0m\u001b[0mdata\u001b[0m\u001b[0;34m,\u001b[0m \u001b[0mvariables\u001b[0m\u001b[0;34m=\u001b[0m\u001b[0mvariables\u001b[0m\u001b[0;34m,\u001b[0m\u001b[0;34m\u001b[0m\u001b[0;34m\u001b[0m\u001b[0m\n\u001b[1;32m    687\u001b[0m         \u001b[0mestimator\u001b[0m\u001b[0;34m=\u001b[0m\u001b[0mestimator\u001b[0m\u001b[0;34m,\u001b[0m \u001b[0mci\u001b[0m\u001b[0;34m=\u001b[0m\u001b[0mci\u001b[0m\u001b[0;34m,\u001b[0m \u001b[0mn_boot\u001b[0m\u001b[0;34m=\u001b[0m\u001b[0mn_boot\u001b[0m\u001b[0;34m,\u001b[0m \u001b[0mseed\u001b[0m\u001b[0;34m=\u001b[0m\u001b[0mseed\u001b[0m\u001b[0;34m,\u001b[0m\u001b[0;34m\u001b[0m\u001b[0;34m\u001b[0m\u001b[0m\n\u001b[0;32m--> 688\u001b[0;31m         \u001b[0msort\u001b[0m\u001b[0;34m=\u001b[0m\u001b[0msort\u001b[0m\u001b[0;34m,\u001b[0m \u001b[0merr_style\u001b[0m\u001b[0;34m=\u001b[0m\u001b[0merr_style\u001b[0m\u001b[0;34m,\u001b[0m \u001b[0merr_kws\u001b[0m\u001b[0;34m=\u001b[0m\u001b[0merr_kws\u001b[0m\u001b[0;34m,\u001b[0m \u001b[0mlegend\u001b[0m\u001b[0;34m=\u001b[0m\u001b[0mlegend\u001b[0m\u001b[0;34m,\u001b[0m\u001b[0;34m\u001b[0m\u001b[0;34m\u001b[0m\u001b[0m\n\u001b[0m\u001b[1;32m    689\u001b[0m     )\n\u001b[1;32m    690\u001b[0m \u001b[0;34m\u001b[0m\u001b[0m\n",
            "\u001b[0;32m/usr/local/lib/python3.7/dist-packages/seaborn/relational.py\u001b[0m in \u001b[0;36m__init__\u001b[0;34m(self, data, variables, estimator, ci, n_boot, seed, sort, err_style, err_kws, legend)\u001b[0m\n\u001b[1;32m    365\u001b[0m         )\n\u001b[1;32m    366\u001b[0m \u001b[0;34m\u001b[0m\u001b[0m\n\u001b[0;32m--> 367\u001b[0;31m         \u001b[0msuper\u001b[0m\u001b[0;34m(\u001b[0m\u001b[0;34m)\u001b[0m\u001b[0;34m.\u001b[0m\u001b[0m__init__\u001b[0m\u001b[0;34m(\u001b[0m\u001b[0mdata\u001b[0m\u001b[0;34m=\u001b[0m\u001b[0mdata\u001b[0m\u001b[0;34m,\u001b[0m \u001b[0mvariables\u001b[0m\u001b[0;34m=\u001b[0m\u001b[0mvariables\u001b[0m\u001b[0;34m)\u001b[0m\u001b[0;34m\u001b[0m\u001b[0;34m\u001b[0m\u001b[0m\n\u001b[0m\u001b[1;32m    368\u001b[0m \u001b[0;34m\u001b[0m\u001b[0m\n\u001b[1;32m    369\u001b[0m         \u001b[0mself\u001b[0m\u001b[0;34m.\u001b[0m\u001b[0mestimator\u001b[0m \u001b[0;34m=\u001b[0m \u001b[0mestimator\u001b[0m\u001b[0;34m\u001b[0m\u001b[0;34m\u001b[0m\u001b[0m\n",
            "\u001b[0;32m/usr/local/lib/python3.7/dist-packages/seaborn/_core.py\u001b[0m in \u001b[0;36m__init__\u001b[0;34m(self, data, variables)\u001b[0m\n\u001b[1;32m    602\u001b[0m     \u001b[0;32mdef\u001b[0m \u001b[0m__init__\u001b[0m\u001b[0;34m(\u001b[0m\u001b[0mself\u001b[0m\u001b[0;34m,\u001b[0m \u001b[0mdata\u001b[0m\u001b[0;34m=\u001b[0m\u001b[0;32mNone\u001b[0m\u001b[0;34m,\u001b[0m \u001b[0mvariables\u001b[0m\u001b[0;34m=\u001b[0m\u001b[0;34m{\u001b[0m\u001b[0;34m}\u001b[0m\u001b[0;34m)\u001b[0m\u001b[0;34m:\u001b[0m\u001b[0;34m\u001b[0m\u001b[0;34m\u001b[0m\u001b[0m\n\u001b[1;32m    603\u001b[0m \u001b[0;34m\u001b[0m\u001b[0m\n\u001b[0;32m--> 604\u001b[0;31m         \u001b[0mself\u001b[0m\u001b[0;34m.\u001b[0m\u001b[0massign_variables\u001b[0m\u001b[0;34m(\u001b[0m\u001b[0mdata\u001b[0m\u001b[0;34m,\u001b[0m \u001b[0mvariables\u001b[0m\u001b[0;34m)\u001b[0m\u001b[0;34m\u001b[0m\u001b[0;34m\u001b[0m\u001b[0m\n\u001b[0m\u001b[1;32m    605\u001b[0m \u001b[0;34m\u001b[0m\u001b[0m\n\u001b[1;32m    606\u001b[0m         \u001b[0;32mfor\u001b[0m \u001b[0mvar\u001b[0m\u001b[0;34m,\u001b[0m \u001b[0mcls\u001b[0m \u001b[0;32min\u001b[0m \u001b[0mself\u001b[0m\u001b[0;34m.\u001b[0m\u001b[0m_semantic_mappings\u001b[0m\u001b[0;34m.\u001b[0m\u001b[0mitems\u001b[0m\u001b[0;34m(\u001b[0m\u001b[0;34m)\u001b[0m\u001b[0;34m:\u001b[0m\u001b[0;34m\u001b[0m\u001b[0;34m\u001b[0m\u001b[0m\n",
            "\u001b[0;32m/usr/local/lib/python3.7/dist-packages/seaborn/_core.py\u001b[0m in \u001b[0;36massign_variables\u001b[0;34m(self, data, variables)\u001b[0m\n\u001b[1;32m    666\u001b[0m             \u001b[0mself\u001b[0m\u001b[0;34m.\u001b[0m\u001b[0minput_format\u001b[0m \u001b[0;34m=\u001b[0m \u001b[0;34m\"long\"\u001b[0m\u001b[0;34m\u001b[0m\u001b[0;34m\u001b[0m\u001b[0m\n\u001b[1;32m    667\u001b[0m             plot_data, variables = self._assign_variables_longform(\n\u001b[0;32m--> 668\u001b[0;31m                 \u001b[0mdata\u001b[0m\u001b[0;34m,\u001b[0m \u001b[0;34m**\u001b[0m\u001b[0mvariables\u001b[0m\u001b[0;34m,\u001b[0m\u001b[0;34m\u001b[0m\u001b[0;34m\u001b[0m\u001b[0m\n\u001b[0m\u001b[1;32m    669\u001b[0m             )\n\u001b[1;32m    670\u001b[0m \u001b[0;34m\u001b[0m\u001b[0m\n",
            "\u001b[0;32m/usr/local/lib/python3.7/dist-packages/seaborn/_core.py\u001b[0m in \u001b[0;36m_assign_variables_longform\u001b[0;34m(self, data, **kwargs)\u001b[0m\n\u001b[1;32m    900\u001b[0m \u001b[0;34m\u001b[0m\u001b[0m\n\u001b[1;32m    901\u001b[0m                 \u001b[0merr\u001b[0m \u001b[0;34m=\u001b[0m \u001b[0;34mf\"Could not interpret value `{val}` for parameter `{key}`\"\u001b[0m\u001b[0;34m\u001b[0m\u001b[0;34m\u001b[0m\u001b[0m\n\u001b[0;32m--> 902\u001b[0;31m                 \u001b[0;32mraise\u001b[0m \u001b[0mValueError\u001b[0m\u001b[0;34m(\u001b[0m\u001b[0merr\u001b[0m\u001b[0;34m)\u001b[0m\u001b[0;34m\u001b[0m\u001b[0;34m\u001b[0m\u001b[0m\n\u001b[0m\u001b[1;32m    903\u001b[0m \u001b[0;34m\u001b[0m\u001b[0m\n\u001b[1;32m    904\u001b[0m             \u001b[0;32melse\u001b[0m\u001b[0;34m:\u001b[0m\u001b[0;34m\u001b[0m\u001b[0;34m\u001b[0m\u001b[0m\n",
            "\u001b[0;31mValueError\u001b[0m: Could not interpret value `fecha_pago_actual_trimestral` for parameter `x`"
          ]
        },
        {
          "output_type": "display_data",
          "data": {
            "image/png": "[encoded data removed]",
            "text/plain": [
              "<Figure size 1080x504 with 1 Axes>"
            ]
          },
          "metadata": {
            "tags": [],
            "needs_background": "light"
          }
        }
      ]
    },
    {
      "cell_type": "code",
      "metadata": {
        "colab": {
          "base_uri": "https://localhost:8080/"
        },
        "id": "vzrmodbJ6Sen",
        "outputId": "94071018-251f-48c3-b9c7-c273d2fcfb6c"
      },
      "source": [
        "predial_test=shifted_predial_payment[[\"fecha_ultimo_pago\",\"valor_factura\"]]\n",
        "predial_test[\"fecha_ultimo_pago\"]=pd.to_datetime(predial_test[\"fecha_ultimo_pago\"],format=\"%Y%m\")\n",
        "\n",
        "predial_test=predial_test[(predial_test[\"fecha_ultimo_pago\"].dt.year>=2016) & (predial_test[\"fecha_ultimo_pago\"].dt.year<=2020)]"
      ],
      "execution_count": null,
      "outputs": [
        {
          "output_type": "stream",
          "text": [
            "/usr/local/lib/python3.7/dist-packages/ipykernel_launcher.py:2: SettingWithCopyWarning: \n",
            "A value is trying to be set on a copy of a slice from a DataFrame.\n",
            "Try using .loc[row_indexer,col_indexer] = value instead\n",
            "\n",
            "See the caveats in the documentation: https://pandas.pydata.org/pandas-docs/stable/user_guide/indexing.html#returning-a-view-versus-a-copy\n",
            "  \n"
          ],
          "name": "stderr"
        }
      ]
    },
    {
      "cell_type": "code",
      "metadata": {
        "id": "tGXedQou_TTv"
      },
      "source": [
        "predial_test=predial_test.groupby(\"fecha_ultimo_pago\").sum()"
      ],
      "execution_count": null,
      "outputs": []
    },
    {
      "cell_type": "code",
      "metadata": {
        "colab": {
          "base_uri": "https://localhost:8080/",
          "height": 485
        },
        "id": "oeZ1EY-l6N9_",
        "outputId": "d6c0e16e-0e61-439b-a423-bb84568e0693"
      },
      "source": [
        "%matplotlib inline\n",
        "\n",
        "years = mdates.YearLocator()   # every year\n",
        "months = mdates.MonthLocator()  # every month\n",
        "years_fmt = mdates.DateFormatter('%Y-%m') #This is a format. Will be clear in Screenshot\n",
        "\n",
        "fig, axes = plt.subplots(figsize=(30,7))\n",
        "sns.lineplot(x=\"fecha_ultimo_pago\",y=\"valor_factura\",data=predial_test)\n",
        "axes.xaxis.set_major_locator(months)\n",
        "axes.xaxis.set_major_formatter(years_fmt)\n",
        "axes.xaxis.set_minor_locator(months)\n",
        "axes.set(xlabel=\"Current payment date\",ylabel=\"Payment amount\")\n",
        "\n",
        "plt.xticks(rotation = 'vertical')\n",
        "plt.show()"
      ],
      "execution_count": null,
      "outputs": [
        {
          "output_type": "display_data",
          "data": {
            "image/png": "[encoded data removed]",
            "text/plain": [
              "<Figure size 2160x504 with 1 Axes>"
            ]
          },
          "metadata": {
            "tags": [],
            "needs_background": "light"
          }
        }
      ]
    },
    {
      "cell_type": "code",
      "metadata": {
        "id": "znsMjEsedbxB"
      },
      "source": [
        "time_series_precial_grouped.to_csv(\"time_series_predial.csv\")"
      ],
      "execution_count": null,
      "outputs": []
    },
    {
      "cell_type": "code",
      "metadata": {
        "colab": {
          "base_uri": "https://localhost:8080/"
        },
        "id": "JyR7S9sPeWvP",
        "outputId": "888af52e-488c-418c-e8f8-c7bc88b03149"
      },
      "source": [
        "from rpy2.robjects.packages import importr\n",
        "%load_ext rpy2.ipython"
      ],
      "execution_count": null,
      "outputs": [
        {
          "output_type": "stream",
          "text": [
            "The rpy2.ipython extension is already loaded. To reload it, use:\n",
            "  %reload_ext rpy2.ipython\n"
          ],
          "name": "stdout"
        }
      ]
    },
    {
      "cell_type": "code",
      "metadata": {
        "id": "ArOeaG-ueXdP"
      },
      "source": [
        "%%R\n",
        "install.packages(\"urca\")"
      ],
      "execution_count": null,
      "outputs": []
    },
    {
      "cell_type": "code",
      "metadata": {
        "id": "eX591r1RdJCp"
      },
      "source": [
        "%%R\n",
        "\n",
        "library(urca)\n",
        "time_series_predial=read.csv(\"time_series_predial.csv\")\n",
        "summary(ur.df(time_series_predial$valor_factura,type=\"trend\",lag=1))"
      ],
      "execution_count": null,
      "outputs": []
    }
  ]
}