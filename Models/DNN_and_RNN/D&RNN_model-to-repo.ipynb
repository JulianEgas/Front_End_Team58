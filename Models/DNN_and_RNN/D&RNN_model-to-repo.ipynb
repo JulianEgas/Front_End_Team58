{
 "cells": [
  {
   "cell_type": "markdown",
   "metadata": {},
   "source": [
    "# DNN and RNN  (ICA data set)"
   ]
  },
  {
   "cell_type": "markdown",
   "metadata": {},
   "source": [
    "In this notebook we will be using the ICA tax data set to create, train a recurrent neural network. Then we will use this network to predict future ICA tax revenue."
   ]
  },
  {
   "cell_type": "code",
   "execution_count": null,
   "metadata": {},
   "outputs": [],
   "source": [
    "import pandas as pd\n",
    "import numpy as np\n",
    "#import seaborn as sns\n",
    "import matplotlib.pyplot as plt\n",
    "\n",
    "import plotly as ply\n",
    "import plotly.express as px\n",
    "import plotly.graph_objects as go\n",
    "\n",
    "import tensorflow as tf\n",
    "import tensorflow.keras\n",
    "\n",
    "# from keras.models import Sequential\n",
    "# from keras import layers"
   ]
  },
  {
   "cell_type": "markdown",
   "metadata": {},
   "source": [
    "### Load the data"
   ]
  },
  {
   "cell_type": "code",
   "execution_count": null,
   "metadata": {},
   "outputs": [],
   "source": [
    "data_path = r'data/'"
   ]
  },
  {
   "cell_type": "code",
   "execution_count": 2,
   "metadata": {},
   "outputs": [
    {
     "data": {
      "text/html": [
       "<div>\n",
       "<style scoped>\n",
       "    .dataframe tbody tr th:only-of-type {\n",
       "        vertical-align: middle;\n",
       "    }\n",
       "\n",
       "    .dataframe tbody tr th {\n",
       "        vertical-align: top;\n",
       "    }\n",
       "\n",
       "    .dataframe thead th {\n",
       "        text-align: right;\n",
       "    }\n",
       "</style>\n",
       "<table border=\"1\" class=\"dataframe\">\n",
       "  <thead>\n",
       "    <tr style=\"text-align: right;\">\n",
       "      <th></th>\n",
       "      <th>PERIODO LIQUIDADO</th>\n",
       "      <th>C</th>\n",
       "      <th>F</th>\n",
       "      <th>I</th>\n",
       "      <th>NC</th>\n",
       "      <th>S</th>\n",
       "      <th>V</th>\n",
       "      <th>V/R FACTURA</th>\n",
       "    </tr>\n",
       "  </thead>\n",
       "  <tbody>\n",
       "    <tr>\n",
       "      <th>0</th>\n",
       "      <td>2001-01-01</td>\n",
       "      <td>0.0</td>\n",
       "      <td>0.0</td>\n",
       "      <td>0.0</td>\n",
       "      <td>227055.991736</td>\n",
       "      <td>0.0</td>\n",
       "      <td>0.0</td>\n",
       "      <td>227055.991736</td>\n",
       "    </tr>\n",
       "    <tr>\n",
       "      <th>1</th>\n",
       "      <td>2001-02-01</td>\n",
       "      <td>784655.0</td>\n",
       "      <td>0.0</td>\n",
       "      <td>0.0</td>\n",
       "      <td>230310.077848</td>\n",
       "      <td>0.0</td>\n",
       "      <td>0.0</td>\n",
       "      <td>230660.707147</td>\n",
       "    </tr>\n",
       "    <tr>\n",
       "      <th>2</th>\n",
       "      <td>2001-03-01</td>\n",
       "      <td>0.0</td>\n",
       "      <td>0.0</td>\n",
       "      <td>0.0</td>\n",
       "      <td>224754.620359</td>\n",
       "      <td>112335.0</td>\n",
       "      <td>0.0</td>\n",
       "      <td>224687.343507</td>\n",
       "    </tr>\n",
       "    <tr>\n",
       "      <th>3</th>\n",
       "      <td>2001-04-01</td>\n",
       "      <td>126985.0</td>\n",
       "      <td>0.0</td>\n",
       "      <td>0.0</td>\n",
       "      <td>323778.003776</td>\n",
       "      <td>500037.0</td>\n",
       "      <td>0.0</td>\n",
       "      <td>323765.097423</td>\n",
       "    </tr>\n",
       "    <tr>\n",
       "      <th>4</th>\n",
       "      <td>2001-05-01</td>\n",
       "      <td>92704.0</td>\n",
       "      <td>0.0</td>\n",
       "      <td>0.0</td>\n",
       "      <td>260969.423507</td>\n",
       "      <td>0.0</td>\n",
       "      <td>0.0</td>\n",
       "      <td>260864.845867</td>\n",
       "    </tr>\n",
       "  </tbody>\n",
       "</table>\n",
       "</div>"
      ],
      "text/plain": [
       "  PERIODO LIQUIDADO         C    F    I             NC         S    V  \\\n",
       "0        2001-01-01       0.0  0.0  0.0  227055.991736       0.0  0.0   \n",
       "1        2001-02-01  784655.0  0.0  0.0  230310.077848       0.0  0.0   \n",
       "2        2001-03-01       0.0  0.0  0.0  224754.620359  112335.0  0.0   \n",
       "3        2001-04-01  126985.0  0.0  0.0  323778.003776  500037.0  0.0   \n",
       "4        2001-05-01   92704.0  0.0  0.0  260969.423507       0.0  0.0   \n",
       "\n",
       "     V/R FACTURA  \n",
       "0  227055.991736  \n",
       "1  230660.707147  \n",
       "2  224687.343507  \n",
       "3  323765.097423  \n",
       "4  260864.845867  "
      ]
     },
     "execution_count": 2,
     "metadata": {},
     "output_type": "execute_result"
    }
   ],
   "source": [
    "pagos_means_clases=pd.read_csv(data_path+\"pagos_ica_cat_means.csv\",index_col=None, header=0)\n",
    "pagos_means_clases.head()"
   ]
  },
  {
   "cell_type": "code",
   "execution_count": 3,
   "metadata": {},
   "outputs": [
    {
     "data": {
      "image/png": "[encoded data removed]",
      "text/plain": [
       "<Figure size 432x288 with 1 Axes>"
      ]
     },
     "metadata": {
      "needs_background": "light"
     },
     "output_type": "display_data"
    }
   ],
   "source": [
    "plt.plot(pagos_means_clases['PERIODO LIQUIDADO'], pagos_means_clases['C'], label='C')\n",
    "plt.plot(pagos_means_clases['PERIODO LIQUIDADO'], pagos_means_clases['F'], label='F')\n",
    "plt.plot(pagos_means_clases['PERIODO LIQUIDADO'], pagos_means_clases['I'], label='I')\n",
    "plt.plot(pagos_means_clases['PERIODO LIQUIDADO'], pagos_means_clases['S'], label='S')\n",
    "plt.plot(pagos_means_clases['PERIODO LIQUIDADO'], pagos_means_clases['V'], label='V')\n",
    "plt.xticks(rotation=90,fontsize=0.1)\n",
    "plt.legend(loc='best')\n",
    "plt.show()"
   ]
  },
  {
   "cell_type": "markdown",
   "metadata": {},
   "source": [
    "### Pre-process the data"
   ]
  },
  {
   "cell_type": "code",
   "execution_count": 7,
   "metadata": {},
   "outputs": [
    {
     "name": "stdout",
     "output_type": "stream",
     "text": [
      "data size = 240\n",
      "train size = 144\n",
      "test size = 96\n"
     ]
    }
   ],
   "source": [
    "data_size=len(pagos_means_clases)\n",
    "print(f\"data size = {data_size}\")\n",
    "\n",
    "# We will split the data sets as\n",
    "train_size=12*12\n",
    "print(f\"train size = {train_size}\")\n",
    "\n",
    "test_size=data_size-train_size\n",
    "print(f\"test size = {test_size}\")\n",
    "\n",
    "\n",
    "x=pagos_means_clases.drop(columns='PERIODO LIQUIDADO')\n",
    "\n",
    "x_train=x[:train_size]\n",
    "#y_train=y[:train_size]\n",
    "\n",
    "x_test=x[train_size:]\n",
    "#y_train=y[train_size:]\n",
    "\n",
    "# Normalizing the data\n",
    "data_matrix=x.values\n",
    "mean_valor = data_matrix[:train_size].mean(axis=0)\n",
    "data_matrix -= mean_valor\n",
    "std_valor = data_matrix[:train_size].std(axis=0)\n",
    "data_matrix /= std_valor\n",
    "\n",
    "data_matrix=x.values"
   ]
  },
  {
   "cell_type": "code",
   "execution_count": 5,
   "metadata": {},
   "outputs": [
    {
     "name": "stdout",
     "output_type": "stream",
     "text": [
      "Target size=22\n"
     ]
    }
   ],
   "source": [
    "# In order to train the RNN we pick time windows of \"lookback\" number of months in the past\n",
    "# \"lookforward\" months in the future.\n",
    "# \"batch_size\" number of predictions. (i.e, we predict up to 24 months.)\n",
    "\n",
    "lookback = 60 #  4 years\n",
    "lookforward = 12 # 1 year\n",
    "batch_size = 24 # 2 years\n",
    "\n",
    "# In the case of the number choosen for the first run, we have\n",
    "# delta=𝑚𝑎𝑥𝑠𝑖𝑧𝑒−(𝑡𝑟𝑎𝑖𝑛𝑠𝑖𝑧𝑒+2+𝑙𝑜𝑜𝑘𝑏𝑎𝑐𝑘+𝑑𝑒𝑙𝑎𝑦)\n",
    "target_size=data_size-(train_size+2+lookback+lookforward)\n",
    "print(f'Target size={target_size}')"
   ]
  },
  {
   "cell_type": "markdown",
   "metadata": {},
   "source": [
    "In order to create the randomize collection of time windows, we will use a generator:"
   ]
  },
  {
   "cell_type": "code",
   "execution_count": 91,
   "metadata": {},
   "outputs": [],
   "source": [
    "def generator2(data, lookback, delay, min_index, max_index,shuffle=False, batch_size=12):\n",
    "    if max_index is None:\n",
    "        max_index = len(data) - delay - 1\n",
    "    i = min_index + lookback\n",
    "    while 1:\n",
    "        if shuffle:\n",
    "            rows = np.random.randint(min_index + lookback, max_index, size=batch_size)\n",
    "        else:\n",
    "            if i + batch_size >= max_index:\n",
    "                i = min_index + lookback\n",
    "            rows = np.arange(i, min(i + batch_size, max_index))\n",
    "            i += len(rows)\n",
    "        samples = np.zeros((len(rows),lookback,data.shape[-1]))\n",
    "        targets = np.zeros((len(rows),))\n",
    "        for j, row in enumerate(rows):\n",
    "            indices = range(rows[j] - lookback, rows[j])\n",
    "            samples[j] = data[indices]\n",
    "            targets[j] = data[rows[j] + delay][-1]\n",
    "        yield samples, targets\n",
    "        \n",
    "\n",
    "\n",
    "# lookback = 60 #  4 years\n",
    "# lookforward = 12 # 1 year\n",
    "# batch_size = 24 # 2 years\n",
    "\n",
    "\n",
    "# For the train generator, we do suffle, that means the loop will run forever, at each iteration it creates \n",
    "# a batch of 50 samples (50 sub data_matrices) taken from the data matrix \n",
    "# each of it containing (lookback) rows and (features=V_Factura, clases) columns\n",
    "# For each sample (lookback data points), the generator also gives the value of target value (V_factura)\n",
    "# in the future (delay) months later.\n",
    "# The loop is terminated by the RNN by using the fit_generator method.\n",
    "\n",
    "train_gen_ICA2 = generator2(data_matrix, \n",
    "                      lookback=lookback,\n",
    "                      delay=lookforward,\n",
    "                      min_index=0,\n",
    "                      max_index=train_size,\n",
    "                      shuffle=True,\n",
    "                      batch_size=batch_size)\n",
    "\n",
    "# For the test generator, we use shuffle_off, that means, it takes a first sample taken from the data_matrix\n",
    "# starting from the row (train_size+1) to (train_size +1 +lookback). If the batch_size is enough to fit \n",
    "# yet another sample, then it will go to the next batch following the last point of the first batch. It \n",
    "# keep doing it until it reaches the end of the data_matrix. \n",
    "#(long story short:It divides the 'test_set' in time_sequences sets of size 'batch_size' each)\n",
    "# If at some point, the test_set is not big enough to accomodate a batch, the batch is cut to the last point\n",
    "# in the data set.\n",
    "# For each sample (lookback data points), the generator also gives the value of target value (V_factura)\n",
    "# in the future (delay) months later.\n",
    "test_gen_ICA2 = generator2(data_matrix,\n",
    "                     lookback=lookback,\n",
    "                     delay=lookforward,\n",
    "                     min_index=train_size+1,\n",
    "                     max_index=None,\n",
    "                     batch_size=batch_size)\n",
    "\n",
    "\n",
    "#val_steps_ICA2 = (val_size - lookback)\n",
    "test_steps_ICA2 = (test_size - lookback)        "
   ]
  },
  {
   "cell_type": "markdown",
   "metadata": {},
   "source": [
    "Now, lets create and train the RNN"
   ]
  },
  {
   "cell_type": "code",
   "execution_count": 97,
   "metadata": {},
   "outputs": [
    {
     "name": "stdout",
     "output_type": "stream",
     "text": [
      "Epoch 1/10\n",
      "100/100 [==============================] - 1s 8ms/step - loss: 1.0768 - val_loss: 3.3556\n",
      "Epoch 2/10\n",
      "100/100 [==============================] - 1s 5ms/step - loss: 0.8130 - val_loss: 2.6357\n",
      "Epoch 3/10\n",
      "100/100 [==============================] - 1s 5ms/step - loss: 0.6805 - val_loss: 2.2600\n",
      "Epoch 4/10\n",
      "100/100 [==============================] - 1s 5ms/step - loss: 0.5778 - val_loss: 2.0603\n",
      "Epoch 5/10\n",
      "100/100 [==============================] - 1s 5ms/step - loss: 0.5978 - val_loss: 2.0447\n",
      "Epoch 6/10\n",
      "100/100 [==============================] - 1s 5ms/step - loss: 0.5899 - val_loss: 2.0484\n",
      "Epoch 7/10\n",
      "100/100 [==============================] - 1s 5ms/step - loss: 0.5399 - val_loss: 2.1413\n",
      "Epoch 8/10\n",
      "100/100 [==============================] - 1s 5ms/step - loss: 0.5274 - val_loss: 2.1814\n",
      "Epoch 9/10\n",
      "100/100 [==============================] - 1s 5ms/step - loss: 0.5333 - val_loss: 2.2188\n",
      "Epoch 10/10\n",
      "100/100 [==============================] - 1s 5ms/step - loss: 0.5131 - val_loss: 2.1995\n"
     ]
    },
    {
     "data": {
      "image/png": "[encoded data removed]",
      "text/plain": [
       "<Figure size 432x288 with 1 Axes>"
      ]
     },
     "metadata": {
      "needs_background": "light"
     },
     "output_type": "display_data"
    }
   ],
   "source": [
    "# from numpy import loadtxt\n",
    "# from tensorflow.keras.models import load_model\n",
    "\n",
    "from keras.models import Sequential\n",
    "from keras import layers\n",
    "from keras.optimizers import RMSprop\n",
    "\n",
    "model_cat = Sequential()\n",
    "model_cat.add(layers.GRU(16,\n",
    "                     dropout=0.3,\n",
    "                     #recurrent_dropout=0.2,\n",
    "                     input_shape=(None, data_matrix.shape[-1]),\n",
    "                     kernel_regularizer='l2'))\n",
    "\n",
    "# model_cat.add(layers.Dense(32, activation='relu',kernel_regularizer='l2'))\n",
    "# model_cat.add(layers.Dropout(0.3))\n",
    "\n",
    "model_cat.add(layers.Dense(1))\n",
    "\n",
    "model_cat.compile(optimizer=RMSprop(), loss='mae')\n",
    "history_cat = model_cat.fit_generator(train_gen_ICA2,\n",
    "                              steps_per_epoch=100,\n",
    "                              epochs=10,\n",
    "                              validation_data=test_gen_ICA2,\n",
    "                              validation_steps=test_steps_ICA2)\n",
    "\n",
    "loss_cat = history_cat.history['loss']\n",
    "val_loss_cat = history_cat.history['val_loss']\n",
    "\n",
    "epochs = range(1, len(loss_cat) + 1)\n",
    "\n",
    "plt.figure()\n",
    "\n",
    "plt.plot(epochs, loss_cat, 'bo', label='Training loss', markerfacecolor='red')\n",
    "plt.plot(epochs, val_loss_cat, 'b', label='Validation loss')\n",
    "plt.title('Training and validation loss')\n",
    "plt.legend()\n",
    "\n",
    "plt.show()"
   ]
  },
  {
   "cell_type": "markdown",
   "metadata": {},
   "source": [
    "And lets make some predictions:"
   ]
  },
  {
   "cell_type": "code",
   "execution_count": 98,
   "metadata": {},
   "outputs": [
    {
     "data": {
      "image/png": "[encoded data removed]",
      "text/plain": [
       "<Figure size 432x288 with 1 Axes>"
      ]
     },
     "metadata": {
      "needs_background": "light"
     },
     "output_type": "display_data"
    }
   ],
   "source": [
    "# Take a batch of samples (past),test (future) from the test set using the generator function.\n",
    "data_pred=next(test_gen_ICA2)\n",
    "\n",
    "# Lets take a sample from it and feed the model with it:\n",
    "y_pred_cat =model_cat.predict(data_pred[0])\n",
    "y_pred_cat=y_pred_cat.flatten()\n",
    "\n",
    "# Now lets compare the output predicted by the RNN with the real data from the test sample\n",
    "plt.plot(range(len(y_pred_cat)), y_pred_cat, label='Batch prediction ')\n",
    "plt.plot(range(len(data_pred[1])),data_pred[1], label='Data test period target')\n",
    "plt.legend(loc='best')\n",
    "plt.show()"
   ]
  },
  {
   "cell_type": "markdown",
   "metadata": {},
   "source": [
    "# Save the model"
   ]
  },
  {
   "cell_type": "markdown",
   "metadata": {},
   "source": [
    "We can then save the model for future use:"
   ]
  },
  {
   "cell_type": "code",
   "execution_count": 4,
   "metadata": {},
   "outputs": [
    {
     "ename": "NameError",
     "evalue": "name 'model_cat' is not defined",
     "output_type": "error",
     "traceback": [
      "\u001b[0;31m---------------------------------------------------------------------------\u001b[0m",
      "\u001b[0;31mNameError\u001b[0m                                 Traceback (most recent call last)",
      "\u001b[0;32m<ipython-input-4-998760709548>\u001b[0m in \u001b[0;36m<module>\u001b[0;34m\u001b[0m\n\u001b[1;32m      1\u001b[0m \u001b[0;31m# the easy way. Saving the model (with periodo liquidado) in h5\u001b[0m\u001b[0;34m\u001b[0m\u001b[0;34m\u001b[0m\u001b[0;34m\u001b[0m\u001b[0m\n\u001b[0;32m----> 2\u001b[0;31m \u001b[0mmodel_cat\u001b[0m\u001b[0;34m.\u001b[0m\u001b[0msave\u001b[0m\u001b[0;34m(\u001b[0m\u001b[0;34m\"model_cat_means(48_LB-12_LF).h5\"\u001b[0m\u001b[0;34m)\u001b[0m\u001b[0;34m\u001b[0m\u001b[0;34m\u001b[0m\u001b[0m\n\u001b[0m",
      "\u001b[0;31mNameError\u001b[0m: name 'model_cat' is not defined"
     ]
    }
   ],
   "source": [
    "# the easy way. Saving the model (with periodo liquidado) in h5 \n",
    "model_cat.save(data_path+\"model_cat_repo.h5\")"
   ]
  },
  {
   "cell_type": "markdown",
   "metadata": {},
   "source": [
    "### Load the model"
   ]
  },
  {
   "cell_type": "markdown",
   "metadata": {},
   "source": [
    "Now in the future, when we want to use a trained model, we just load it"
   ]
  },
  {
   "cell_type": "code",
   "execution_count": 5,
   "metadata": {
    "scrolled": true
   },
   "outputs": [
    {
     "name": "stdout",
     "output_type": "stream",
     "text": [
      "Model: \"sequential_1\"\n",
      "_________________________________________________________________\n",
      "Layer (type)                 Output Shape              Param #   \n",
      "=================================================================\n",
      "gru_1 (GRU)                  (None, 32)                3936      \n",
      "_________________________________________________________________\n",
      "dense_2 (Dense)              (None, 32)                1056      \n",
      "_________________________________________________________________\n",
      "dropout_1 (Dropout)          (None, 32)                0         \n",
      "_________________________________________________________________\n",
      "dense_3 (Dense)              (None, 1)                 33        \n",
      "=================================================================\n",
      "Total params: 5,025\n",
      "Trainable params: 5,025\n",
      "Non-trainable params: 0\n",
      "_________________________________________________________________\n"
     ]
    }
   ],
   "source": [
    "#load the model from h5 file\n",
    "#from numpy import loadtxt\n",
    "from keras.models import load_model\n",
    " \n",
    "# load model\n",
    "model_cat_load = load_model(data_path+\"model_cat_repo.h5\")\n",
    "\n",
    "# summarize model.\n",
    "model_cat_load.summary()"
   ]
  },
  {
   "cell_type": "markdown",
   "metadata": {},
   "source": [
    "# Plotting past data, present data and predicted data"
   ]
  },
  {
   "cell_type": "code",
   "execution_count": 102,
   "metadata": {},
   "outputs": [
    {
     "data": {
      "image/png": "[encoded data removed]",
      "text/plain": [
       "<Figure size 432x288 with 1 Axes>"
      ]
     },
     "metadata": {
      "needs_background": "light"
     },
     "output_type": "display_data"
    }
   ],
   "source": [
    "batch_pasado=[y for y in data_pred[0][0][:,-1]]\n",
    "# batch_peasado=[y*std_valor[-1]+mean_valor[-1] for y in data_pred[0][0][:,-1]]\n",
    "\n",
    "\n",
    "plt.plot(range(len(batch_pasado)), batch_pasado, label='Batch pasado (real)')\n",
    "plt.plot(range(len(batch_pasado),len(batch_pasado)+len(data_pred[1])), \\\n",
    "         data_pred[1], label='Batch present (real)')\n",
    "plt.plot(range(len(batch_pasado),len(batch_pasado)+len(data_pred[1])),\\\n",
    "         y_pred_cat,  label='Batch predicted')\n",
    "\n",
    "plt.legend(loc='best')\n",
    "plt.show()"
   ]
  },
  {
   "attachments": {
    "time_window.png": {
     "image/png": "[encoded data removed]"
    }
   },
   "cell_type": "markdown",
   "metadata": {},
   "source": [
    "For the sake of clarity, you can identify the time window above with the whole time series ![time_window.png](attachment:time_window.png)"
   ]
  },
  {
   "cell_type": "markdown",
   "metadata": {},
   "source": [
    "# DNN"
   ]
  },
  {
   "cell_type": "markdown",
   "metadata": {},
   "source": [
    "To train a DNN, you just need to comment out the GRU layer and uncomment the dense layer in the neural network cell above. We trained and then saved, here then load the trained model."
   ]
  },
  {
   "cell_type": "code",
   "execution_count": 181,
   "metadata": {},
   "outputs": [
    {
     "name": "stdout",
     "output_type": "stream",
     "text": [
      "Model: \"sequential_9\"\n",
      "_________________________________________________________________\n",
      "Layer (type)                 Output Shape              Param #   \n",
      "=================================================================\n",
      "dense_18 (Dense)             (None, None, 32)          256       \n",
      "_________________________________________________________________\n",
      "dropout_9 (Dropout)          (None, None, 32)          0         \n",
      "_________________________________________________________________\n",
      "dense_19 (Dense)             (None, None, 1)           33        \n",
      "=================================================================\n",
      "Total params: 289\n",
      "Trainable params: 289\n",
      "Non-trainable params: 0\n",
      "_________________________________________________________________\n"
     ]
    }
   ],
   "source": [
    "model_dnn_load = load_model(data_path+\"model_cat_dnn.h5\")\n",
    "model_dnn_load.summary()"
   ]
  },
  {
   "cell_type": "markdown",
   "metadata": {},
   "source": [
    "Now lets take some data from the original data set (instead of using the generador function) and see what the model predict with it"
   ]
  },
  {
   "cell_type": "code",
   "execution_count": 121,
   "metadata": {},
   "outputs": [],
   "source": [
    "# I need to give to the predictor, a time series of 96 data points per each prediction. Since I choose to look ahead\n",
    "# up to one year, i need to give the predictor 48 series (12 months), one for each data point i want to predict in the\n",
    "# future. Lets take that batch from the original data:\n",
    "sample_to_predictions=[]\n",
    "future_window=20\n",
    "for i in range(future_window):\n",
    "    sample_to_predictions.append(data_matrix[140+i:140+60+future_window+i])\n",
    "sample_to_predictions=np.array(sample_to_predictions)"
   ]
  },
  {
   "cell_type": "markdown",
   "metadata": {},
   "source": [
    "Now we use the load model on the sample set above"
   ]
  },
  {
   "cell_type": "code",
   "execution_count": 182,
   "metadata": {},
   "outputs": [],
   "source": [
    "y_pred_cat_load =model_cat_load.predict(sample_to_predictions)\n",
    "y_pred_cat_dnn_load=model_dnn_load.predict(sample_to_predictions)"
   ]
  },
  {
   "cell_type": "markdown",
   "metadata": {},
   "source": [
    "And lets plot past data, present data, and DNN prediction for present data"
   ]
  },
  {
   "cell_type": "code",
   "execution_count": 191,
   "metadata": {},
   "outputs": [
    {
     "data": {
      "image/png": "[encoded data removed]",
      "text/plain": [
       "<Figure size 432x288 with 1 Axes>"
      ]
     },
     "metadata": {
      "needs_background": "light"
     },
     "output_type": "display_data"
    }
   ],
   "source": [
    "future=train_size +lookback+lookforward+1\n",
    "#data_target=pagos_means_clases['V/R FACTURA'].iloc[future\\\n",
    "#                        :future+52].values\n",
    "#data_test_period_target=pagos_df_model2_means_clases['V/R FACTURA'].iloc[-25:].values\n",
    "#batch_future=[y*std_valor[-1]+mean_valor[-1] for y in  data_pred[1]]\n",
    "\n",
    "\n",
    "\n",
    "batch_predicted_rnn=[y*std_valor[-1]+mean_valor[-1] for y in  y_pred_cat_load]\n",
    "batch_predicted_dnn=[y*std_valor[-1]+mean_valor[-1] for y in  y_pred_cat_dnn_load[1]]\n",
    "sample_unreno=[y*std_valor[-1]+mean_valor[-1] for y in  sample_to_predictions[-1][:,-1]]\n",
    "\n",
    "#plt.plot(range(len(data_target)), data_target, label='Batch future (from data)')\n",
    "\n",
    "#plt.plot(range(len(batch_future)), batch_future,linewidth=6, label='Batch future (from generator)')\n",
    "plt.plot(range(len(sample_unreno)), sample_unreno, label='Batch sample')\n",
    "plt.plot(range(len(sample_unreno),len(sample_unreno)+len(batch_predicted_rnn)),\n",
    "         batch_predicted_rnn,  label='Batch predicted by RNN')\n",
    "plt.plot(range(len(sample_unreno),len(sample_unreno)+len(batch_predicted_dnn)),\n",
    "         batch_predicted_dnn,  label='Batch predicted by DNN')\n",
    "plt.legend(loc='best')\n",
    "plt.show()"
   ]
  }
 ],
 "metadata": {
  "kernelspec": {
   "display_name": "py36",
   "language": "python",
   "name": "py36"
  },
  "language_info": {
   "codemirror_mode": {
    "name": "ipython",
    "version": 3
   },
   "file_extension": ".py",
   "mimetype": "text/x-python",
   "name": "python",
   "nbconvert_exporter": "python",
   "pygments_lexer": "ipython3",
   "version": "3.6.13"
  }
 },
 "nbformat": 4,
 "nbformat_minor": 5
}
